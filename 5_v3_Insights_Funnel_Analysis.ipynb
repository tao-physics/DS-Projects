{
 "cells": [
  {
   "cell_type": "markdown",
   "metadata": {},
   "source": [
    "# INSIGHTS: Funnel Analysis \n",
    "## Funnel Analysis \n",
    "## Goal \n",
    "The goal is to perform funnel analysis for an e-commerce website. Typically, websites have a clear path to conversion: for instance, you land on the home page, then you search, select a product and buy it. At each of these steps, some users will drop off and leave the site. The sequence of pages that leads to conversion is called ‘funnel’ . Data Science can have a tremendous impact on funnel optimization. Funnel analysis allows to understand where/when our users abandon the website. It gives crucial insights on user behavior and on ways to improve the user experience as well as it often allows to discover bugs.\n",
    " \n",
    "## Challenge Description \n",
    "\n",
    "You are looking at data from an e-commerce website. The site is very simple and has just 4 pages:\n",
    "\n",
    "The ﬁrst page is the __home page__. When you come to the site for the ﬁrst time, you can only land on the __home page__ as a ﬁrst page. \n",
    "\n",
    "From the __home page__, the user can perform a search and land on the __search page__. \n",
    "\n",
    "From the __search page__, if the user clicks on a product, she will get to the __payment page__, where she is asked to provide payment information in order to buy that product. \n",
    "\n",
    "If she does decide to buy, she ends up on the __conﬁrmation page__ \n",
    "\n",
    "The company CEO isn’t very happy with the __company sales__ and, especially, __sales coming from new user__. Therefore, she asked you to investigate whether there is something wrong in the conversion funnel or, in general, if you can create hypotheses on how conversion rate could be improved.\n",
    "\n",
    "Speciﬁcally, she is interested in : \n",
    "\n",
    "### A full picture of funnel conversion rate for both desktop and mobile \n",
    "\n",
    "### Some insights on what the product team should focus on in order to improve conversion rate as well as anything you might discover that could help improve conversion rate. "
   ]
  },
  {
   "cell_type": "code",
   "execution_count": 1,
   "metadata": {},
   "outputs": [],
   "source": [
    "import pandas as pd\n",
    "pd.set_option('display.max_columns', 20)\n",
    "pd.set_option('display.width', 350)\n",
    "\n",
    "import matplotlib.pyplot as plt\n",
    "%matplotlib inline\n",
    "\n",
    "import numpy as np"
   ]
  },
  {
   "cell_type": "code",
   "execution_count": 2,
   "metadata": {},
   "outputs": [],
   "source": [
    "# read data\n",
    "\n",
    "# home = pd.read_csv('Data/Funnel_Analysis/home_page_table.csv', names=['user_id', 'home_page'], skiprows=0)\n",
    "# confirmation = pd.read_csv('Data/Funnel_Analysis/payment_confirmation_table.csv', names=['user_id', 'confirmation_page'])\n",
    "# payment = pd.read_csv('Data/Funnel_Analysis/payment_page_table.csv', names=['user_id', 'payment_page'])\n",
    "# search = pd.read_csv('Data/Funnel_Analysis/search_page_table.csv', names=['user_id', 'search_page'])\n",
    "# user = pd.read_csv('Data/Funnel_Analysis/user_table.csv')\n",
    "\n",
    "home = pd.read_csv('Data/Funnel_Analysis/home_page_table.csv')\n",
    "confirmation = pd.read_csv('Data/Funnel_Analysis/payment_confirmation_table.csv')\n",
    "payment = pd.read_csv('Data/Funnel_Analysis/payment_page_table.csv')\n",
    "search = pd.read_csv('Data/Funnel_Analysis/search_page_table.csv')\n",
    "user = pd.read_csv('Data/Funnel_Analysis/user_table.csv')\n",
    "\n",
    "# rename the columns, since later we find the home/search/payment/confirmation dataset use\n",
    "# the same name, 'page', for the page columns.\n",
    "\n",
    "home.columns = ['user_id', 'home_page']\n",
    "confirmation.columns = ['user_id', 'confirmation_page']\n",
    "payment.columns = ['user_id', 'payment_page']\n",
    "search.columns = ['user_id', 'search_page']"
   ]
  },
  {
   "cell_type": "code",
   "execution_count": 3,
   "metadata": {},
   "outputs": [],
   "source": [
    "# files = [home, confirmation, payment, search, user]\n",
    "files = [user, home, search, payment, confirmation]\n",
    "\n",
    "# file_names = ['home', 'confirmation', 'payment', 'search', 'user']\n",
    "file_names = ['user', 'home', 'search', 'payment', 'confirmation']"
   ]
  },
  {
   "cell_type": "markdown",
   "metadata": {},
   "source": [
    "take a look at the data / skip through the data"
   ]
  },
  {
   "cell_type": "code",
   "execution_count": 4,
   "metadata": {
    "scrolled": false
   },
   "outputs": [
    {
     "name": "stdout",
     "output_type": "stream",
     "text": [
      "   user_id        date   device     sex\n",
      "0   450007  2015-02-28  Desktop  Female\n",
      "1   756838  2015-01-13  Desktop    Male\n",
      "2   568983  2015-04-09  Desktop    Male\n",
      "3   190794  2015-02-18  Desktop  Female\n",
      "4   537909  2015-01-15  Desktop    Male\n",
      "##################################################\n",
      "   user_id  home_page\n",
      "0   313593  home_page\n",
      "1   468315  home_page\n",
      "2   264005  home_page\n",
      "3   290784  home_page\n",
      "4   639104  home_page\n",
      "##################################################\n",
      "   user_id  search_page\n",
      "0    15866  search_page\n",
      "1   347058  search_page\n",
      "2   577020  search_page\n",
      "3   780347  search_page\n",
      "4   383739  search_page\n",
      "##################################################\n",
      "   user_id  payment_page\n",
      "0   253019  payment_page\n",
      "1   310478  payment_page\n",
      "2   304081  payment_page\n",
      "3   901286  payment_page\n",
      "4   195052  payment_page\n",
      "##################################################\n",
      "   user_id          confirmation_page\n",
      "0   123100  payment_confirmation_page\n",
      "1   704999  payment_confirmation_page\n",
      "2   407188  payment_confirmation_page\n",
      "3   538348  payment_confirmation_page\n",
      "4   841681  payment_confirmation_page\n",
      "##################################################\n"
     ]
    }
   ],
   "source": [
    "for file in files:\n",
    "    print(file.head())\n",
    "    print('##################################################')"
   ]
  },
  {
   "cell_type": "markdown",
   "metadata": {},
   "source": [
    "We find the information and structures are relatively simple in the files. \n",
    "The home/search/payment/confirmation data file only contains user_id and page_title.  \n",
    "We can combine/merge them together so that we have the funnel of user behavior.  \n",
    "For the user data file, the user_id can be used in the merge process with other files.  \n",
    "The date contains time series information, from which we may find the impact of some special time period.  \n",
    "The device and sex are two user features."
   ]
  },
  {
   "cell_type": "code",
   "execution_count": 5,
   "metadata": {
    "scrolled": false
   },
   "outputs": [
    {
     "name": "stdout",
     "output_type": "stream",
     "text": [
      "              user_id        date   device    sex\n",
      "count    90400.000000       90400    90400  90400\n",
      "unique            NaN         120        2      2\n",
      "top               NaN  2015-02-08  Desktop   Male\n",
      "freq              NaN         877    60200  45325\n",
      "mean    498709.683473         NaN      NaN    NaN\n",
      "std     289040.674085         NaN      NaN    NaN\n",
      "min         17.000000         NaN      NaN    NaN\n",
      "25%     247978.750000         NaN      NaN    NaN\n",
      "50%     498267.000000         NaN      NaN    NaN\n",
      "75%     749789.250000         NaN      NaN    NaN\n",
      "max     999979.000000         NaN      NaN    NaN\n",
      "              user_id  home_page\n",
      "count    90400.000000      90400\n",
      "unique            NaN          1\n",
      "top               NaN  home_page\n",
      "freq              NaN      90400\n",
      "mean    498709.683473        NaN\n",
      "std     289040.674085        NaN\n",
      "min         17.000000        NaN\n",
      "25%     247978.750000        NaN\n",
      "50%     498267.000000        NaN\n",
      "75%     749789.250000        NaN\n",
      "max     999979.000000        NaN\n",
      "              user_id  search_page\n",
      "count    45200.000000        45200\n",
      "unique            NaN            1\n",
      "top               NaN  search_page\n",
      "freq              NaN        45200\n",
      "mean    498423.147655          NaN\n",
      "std     288370.781395          NaN\n",
      "min         17.000000          NaN\n",
      "25%     248931.750000          NaN\n",
      "50%     496500.500000          NaN\n",
      "75%     748352.000000          NaN\n",
      "max     999928.000000          NaN\n",
      "              user_id  payment_page\n",
      "count     6030.000000          6030\n",
      "unique            NaN             1\n",
      "top               NaN  payment_page\n",
      "freq              NaN          6030\n",
      "mean    495136.066003           NaN\n",
      "std     288022.646252           NaN\n",
      "min         38.000000           NaN\n",
      "25%     247135.500000           NaN\n",
      "50%     494084.000000           NaN\n",
      "75%     745352.000000           NaN\n",
      "max     999896.000000           NaN\n",
      "              user_id          confirmation_page\n",
      "count      452.000000                        452\n",
      "unique            NaN                          1\n",
      "top               NaN  payment_confirmation_page\n",
      "freq              NaN                        452\n",
      "mean    477639.798673                        NaN\n",
      "std     274527.225478                        NaN\n",
      "min       4561.000000                        NaN\n",
      "25%     255701.250000                        NaN\n",
      "50%     459776.500000                        NaN\n",
      "75%     712288.000000                        NaN\n",
      "max     999315.000000                        NaN\n"
     ]
    }
   ],
   "source": [
    "for file in files:\n",
    "    print(file.describe(include='all'))"
   ]
  },
  {
   "cell_type": "markdown",
   "metadata": {},
   "source": [
    "we use the describe function to get some statistical sense about the data in the files.  \n",
    "There are 90400 users.  \n",
    "The time window is 120 days. (let's check the start and end dates later.)  \n",
    "There are 60200 desktops among 90400 devices.\n",
    "There are 45324 males among 90400 users.  \n",
    "The funnel goes like this:  \n",
    "home(90400) -> search(45200) -> payment(6030) -> confirmation(452)  \n",
    "Let's see how we can dig into details and visulize the information with plots."
   ]
  },
  {
   "cell_type": "code",
   "execution_count": 6,
   "metadata": {},
   "outputs": [
    {
     "name": "stdout",
     "output_type": "stream",
     "text": [
      "user (90400, 4)\n",
      "home (90400, 2)\n",
      "search (45200, 2)\n",
      "payment (6030, 2)\n",
      "confirmation (452, 2)\n"
     ]
    }
   ],
   "source": [
    "for name, file in zip(file_names, files):\n",
    "    print(name, file.shape)"
   ]
  },
  {
   "cell_type": "markdown",
   "metadata": {},
   "source": [
    "The funnel goes like this:  \n",
    "home(90400) -> search(45200) -> payment(6030) -> confirmation(452)  "
   ]
  },
  {
   "cell_type": "code",
   "execution_count": 9,
   "metadata": {},
   "outputs": [
    {
     "name": "stdout",
     "output_type": "stream",
     "text": [
      "<class 'pandas.core.frame.DataFrame'>\n",
      "RangeIndex: 90400 entries, 0 to 90399\n",
      "Data columns (total 4 columns):\n",
      "user_id    90400 non-null int64\n",
      "date       90400 non-null object\n",
      "device     90400 non-null object\n",
      "sex        90400 non-null object\n",
      "dtypes: int64(1), object(3)\n",
      "memory usage: 2.8+ MB\n"
     ]
    }
   ],
   "source": [
    "user.info()"
   ]
  },
  {
   "cell_type": "code",
   "execution_count": 12,
   "metadata": {},
   "outputs": [
    {
     "name": "stdout",
     "output_type": "stream",
     "text": [
      "user True\n",
      "home True\n",
      "search True\n",
      "payment True\n",
      "confirmation True\n"
     ]
    }
   ],
   "source": [
    "for name in file_names:\n",
    "    print(name, len(eval(name)['user_id'].values) == len(eval(name)['user_id'].unique()))"
   ]
  },
  {
   "cell_type": "markdown",
   "metadata": {},
   "source": [
    "There are only unique user_ids in the user_id columns."
   ]
  },
  {
   "cell_type": "code",
   "execution_count": 13,
   "metadata": {},
   "outputs": [],
   "source": [
    "user_set = set(user['user_id'].values)\n",
    "home_set = set(home['user_id'].values)"
   ]
  },
  {
   "cell_type": "code",
   "execution_count": 14,
   "metadata": {},
   "outputs": [
    {
     "data": {
      "text/plain": [
       "True"
      ]
     },
     "execution_count": 14,
     "metadata": {},
     "output_type": "execute_result"
    }
   ],
   "source": [
    "len(home_set.intersection(user_set)) == len(home_set)"
   ]
  },
  {
   "cell_type": "markdown",
   "metadata": {},
   "source": [
    "the set of users in the home file is a subset of the user set."
   ]
  },
  {
   "cell_type": "code",
   "execution_count": 15,
   "metadata": {},
   "outputs": [
    {
     "name": "stdout",
     "output_type": "stream",
     "text": [
      "home True\n",
      "search True\n",
      "payment True\n",
      "confirmation True\n"
     ]
    }
   ],
   "source": [
    "for i in range(1, len(file_names)):\n",
    "    pre_step = file_names[i-1]\n",
    "    post_step = file_names[i]\n",
    "    \n",
    "    pre_set = set(eval(pre_step)['user_id'].values)\n",
    "    post_set = set(eval(post_step)['user_id'].values)\n",
    "    \n",
    "    print(post_step, len(post_set.intersection(pre_set)) == len(post_set))"
   ]
  },
  {
   "cell_type": "markdown",
   "metadata": {},
   "source": [
    "The set of users in the next step, such as the 'search' is the next step of 'home', is a subset of the set of previous users. This point holds for all the data files. So the data is reliable from this sence."
   ]
  },
  {
   "cell_type": "markdown",
   "metadata": {},
   "source": [
    "Analyze the feature of users\n",
    "+ such as sex\n",
    "+ such as device"
   ]
  },
  {
   "cell_type": "code",
   "execution_count": 16,
   "metadata": {},
   "outputs": [
    {
     "data": {
      "text/plain": [
       "device\n",
       "Desktop    60200\n",
       "Mobile     30200\n",
       "dtype: int64"
      ]
     },
     "execution_count": 16,
     "metadata": {},
     "output_type": "execute_result"
    }
   ],
   "source": [
    "user.groupby(['device']).size()"
   ]
  },
  {
   "cell_type": "code",
   "execution_count": 17,
   "metadata": {},
   "outputs": [
    {
     "data": {
      "text/plain": [
       "<matplotlib.axes._subplots.AxesSubplot at 0x235cdad1b38>"
      ]
     },
     "execution_count": 17,
     "metadata": {},
     "output_type": "execute_result"
    },
    {
     "data": {
      "image/png": "[encoded data removed]",
      "text/plain": [
       "<Figure size 432x288 with 1 Axes>"
      ]
     },
     "metadata": {},
     "output_type": "display_data"
    }
   ],
   "source": [
    "user.groupby(['device']).size().plot(kind='bar')"
   ]
  },
  {
   "cell_type": "markdown",
   "metadata": {},
   "source": [
    "the number of desktop users is about two times of that of mobile users."
   ]
  },
  {
   "cell_type": "code",
   "execution_count": 20,
   "metadata": {},
   "outputs": [
    {
     "data": {
      "text/plain": [
       "sex\n",
       "Female    45075\n",
       "Male      45325\n",
       "dtype: int64"
      ]
     },
     "execution_count": 20,
     "metadata": {},
     "output_type": "execute_result"
    }
   ],
   "source": [
    "user.groupby(['sex']).size()"
   ]
  },
  {
   "cell_type": "code",
   "execution_count": 21,
   "metadata": {},
   "outputs": [
    {
     "data": {
      "text/plain": [
       "<matplotlib.axes._subplots.AxesSubplot at 0x235cde2fb38>"
      ]
     },
     "execution_count": 21,
     "metadata": {},
     "output_type": "execute_result"
    },
    {
     "data": {
      "image/png": "[encoded data removed]",
      "text/plain": [
       "<Figure size 432x288 with 1 Axes>"
      ]
     },
     "metadata": {},
     "output_type": "display_data"
    }
   ],
   "source": [
    "user.groupby(['sex']).size().plot(kind='bar')"
   ]
  },
  {
   "cell_type": "markdown",
   "metadata": {},
   "source": [
    "The number of female and male users are almost the same."
   ]
  },
  {
   "cell_type": "code",
   "execution_count": 22,
   "metadata": {},
   "outputs": [],
   "source": [
    "import seaborn as sns\n",
    "sns.set(style='darkgrid')"
   ]
  },
  {
   "cell_type": "code",
   "execution_count": 23,
   "metadata": {
    "scrolled": true
   },
   "outputs": [
    {
     "data": {
      "image/png": "[encoded data removed]",
      "text/plain": [
       "<Figure size 432x288 with 1 Axes>"
      ]
     },
     "metadata": {},
     "output_type": "display_data"
    }
   ],
   "source": [
    "ax = sns.countplot(x='device', hue='sex', data=user)"
   ]
  },
  {
   "cell_type": "markdown",
   "metadata": {},
   "source": [
    "This plot shows in each device, the number of female and male users are very close to each other."
   ]
  },
  {
   "cell_type": "code",
   "execution_count": 24,
   "metadata": {},
   "outputs": [],
   "source": [
    "data_join = pd.merge(user, home, how='left', on='user_id')\n",
    "data_join = data_join.merge(search, how='left', on='user_id')\n",
    "data_join = data_join.merge(payment, how='left', on='user_id')\n",
    "data_join = data_join.merge(confirmation, how='left', on='user_id')"
   ]
  },
  {
   "cell_type": "code",
   "execution_count": 25,
   "metadata": {
    "scrolled": true
   },
   "outputs": [
    {
     "data": {
      "text/html": [
       "<div>\n",
       "<style scoped>\n",
       "    .dataframe tbody tr th:only-of-type {\n",
       "        vertical-align: middle;\n",
       "    }\n",
       "\n",
       "    .dataframe tbody tr th {\n",
       "        vertical-align: top;\n",
       "    }\n",
       "\n",
       "    .dataframe thead th {\n",
       "        text-align: right;\n",
       "    }\n",
       "</style>\n",
       "<table border=\"1\" class=\"dataframe\">\n",
       "  <thead>\n",
       "    <tr style=\"text-align: right;\">\n",
       "      <th></th>\n",
       "      <th>user_id</th>\n",
       "      <th>date</th>\n",
       "      <th>device</th>\n",
       "      <th>sex</th>\n",
       "      <th>home_page</th>\n",
       "      <th>search_page</th>\n",
       "      <th>payment_page</th>\n",
       "      <th>confirmation_page</th>\n",
       "    </tr>\n",
       "  </thead>\n",
       "  <tbody>\n",
       "    <tr>\n",
       "      <th>0</th>\n",
       "      <td>450007</td>\n",
       "      <td>2015-02-28</td>\n",
       "      <td>Desktop</td>\n",
       "      <td>Female</td>\n",
       "      <td>home_page</td>\n",
       "      <td>NaN</td>\n",
       "      <td>NaN</td>\n",
       "      <td>NaN</td>\n",
       "    </tr>\n",
       "    <tr>\n",
       "      <th>1</th>\n",
       "      <td>756838</td>\n",
       "      <td>2015-01-13</td>\n",
       "      <td>Desktop</td>\n",
       "      <td>Male</td>\n",
       "      <td>home_page</td>\n",
       "      <td>NaN</td>\n",
       "      <td>NaN</td>\n",
       "      <td>NaN</td>\n",
       "    </tr>\n",
       "    <tr>\n",
       "      <th>2</th>\n",
       "      <td>568983</td>\n",
       "      <td>2015-04-09</td>\n",
       "      <td>Desktop</td>\n",
       "      <td>Male</td>\n",
       "      <td>home_page</td>\n",
       "      <td>search_page</td>\n",
       "      <td>NaN</td>\n",
       "      <td>NaN</td>\n",
       "    </tr>\n",
       "    <tr>\n",
       "      <th>3</th>\n",
       "      <td>190794</td>\n",
       "      <td>2015-02-18</td>\n",
       "      <td>Desktop</td>\n",
       "      <td>Female</td>\n",
       "      <td>home_page</td>\n",
       "      <td>search_page</td>\n",
       "      <td>NaN</td>\n",
       "      <td>NaN</td>\n",
       "    </tr>\n",
       "    <tr>\n",
       "      <th>4</th>\n",
       "      <td>537909</td>\n",
       "      <td>2015-01-15</td>\n",
       "      <td>Desktop</td>\n",
       "      <td>Male</td>\n",
       "      <td>home_page</td>\n",
       "      <td>NaN</td>\n",
       "      <td>NaN</td>\n",
       "      <td>NaN</td>\n",
       "    </tr>\n",
       "  </tbody>\n",
       "</table>\n",
       "</div>"
      ],
      "text/plain": [
       "   user_id        date   device     sex  home_page  search_page payment_page confirmation_page\n",
       "0   450007  2015-02-28  Desktop  Female  home_page          NaN          NaN               NaN\n",
       "1   756838  2015-01-13  Desktop    Male  home_page          NaN          NaN               NaN\n",
       "2   568983  2015-04-09  Desktop    Male  home_page  search_page          NaN               NaN\n",
       "3   190794  2015-02-18  Desktop  Female  home_page  search_page          NaN               NaN\n",
       "4   537909  2015-01-15  Desktop    Male  home_page          NaN          NaN               NaN"
      ]
     },
     "execution_count": 25,
     "metadata": {},
     "output_type": "execute_result"
    }
   ],
   "source": [
    "data_join.head(5)"
   ]
  },
  {
   "cell_type": "code",
   "execution_count": 26,
   "metadata": {},
   "outputs": [
    {
     "data": {
      "text/plain": [
       "<matplotlib.axes._subplots.AxesSubplot at 0x235d11db9e8>"
      ]
     },
     "execution_count": 26,
     "metadata": {},
     "output_type": "execute_result"
    },
    {
     "data": {
      "image/png": "[encoded data removed]",
      "text/plain": [
       "<Figure size 432x288 with 1 Axes>"
      ]
     },
     "metadata": {},
     "output_type": "display_data"
    }
   ],
   "source": [
    "data_join.groupby(['device'])['home_page', 'search_page', 'payment_page', 'confirmation_page'].count().T.plot(kind='bar')"
   ]
  },
  {
   "cell_type": "markdown",
   "metadata": {},
   "source": [
    "This plot shows how the number of desktop and mobile users changes from the home to confirmation page.  \n",
    "During the home and search stage, the amount of desktop users is two times of that of the mobile users.  \n",
    "However, they have similar amounts in the payment and confirmation stage.  \n",
    "In the whole web browsing process, the amount of users drops dramatically.  \n",
    "From home to search, it becomes half. Later, it drops to less than half.  \n",
    "\n",
    "we can check the drop rate/conversion rate or drop reason/conversion reason later."
   ]
  },
  {
   "cell_type": "code",
   "execution_count": 28,
   "metadata": {},
   "outputs": [
    {
     "data": {
      "text/plain": [
       "<matplotlib.axes._subplots.AxesSubplot at 0x235ce377d68>"
      ]
     },
     "execution_count": 28,
     "metadata": {},
     "output_type": "execute_result"
    },
    {
     "data": {
      "image/png": "[encoded data removed]",
      "text/plain": [
       "<Figure size 432x288 with 1 Axes>"
      ]
     },
     "metadata": {},
     "output_type": "display_data"
    }
   ],
   "source": [
    "data_join.groupby(['sex'])['home_page', 'search_page', 'payment_page', 'confirmation_page'].count().T.plot(kind='bar')"
   ]
  },
  {
   "cell_type": "markdown",
   "metadata": {},
   "source": [
    "Different from the device distribution, the numbers of female and male users keep close to each other."
   ]
  },
  {
   "cell_type": "code",
   "execution_count": 29,
   "metadata": {},
   "outputs": [],
   "source": [
    "import seaborn as sns\n",
    "sns.set(style='darkgrid')"
   ]
  },
  {
   "cell_type": "code",
   "execution_count": 30,
   "metadata": {
    "scrolled": true
   },
   "outputs": [
    {
     "data": {
      "text/plain": [
       "<matplotlib.axes._subplots.AxesSubplot at 0x235d2383780>"
      ]
     },
     "execution_count": 30,
     "metadata": {},
     "output_type": "execute_result"
    },
    {
     "data": {
      "image/png": "[encoded data removed]",
      "text/plain": [
       "<Figure size 1296x288 with 4 Axes>"
      ]
     },
     "metadata": {},
     "output_type": "display_data"
    }
   ],
   "source": [
    "fig, ax_count = plt.subplots(1, 4, figsize=(18,4))\n",
    "ax_count[0].set_ylim(0,50000)\n",
    "ax_count[1].set_ylim(0,50000)\n",
    "ax_count[2].set_ylim(0,50000)\n",
    "ax_count[3].set_ylim(0,50000)\n",
    "sns.countplot(x='home_page', hue='sex', data=data_join, ax=ax_count[0])\n",
    "sns.countplot(x='search_page', hue='sex', data=data_join, ax=ax_count[1])\n",
    "sns.countplot(x='payment_page', hue='sex', data=data_join, ax=ax_count[2])\n",
    "sns.countplot(x='confirmation_page', hue='sex', data=data_join, ax=ax_count[3])"
   ]
  },
  {
   "cell_type": "code",
   "execution_count": 31,
   "metadata": {},
   "outputs": [
    {
     "data": {
      "text/plain": [
       "<matplotlib.axes._subplots.AxesSubplot at 0x235d268e828>"
      ]
     },
     "execution_count": 31,
     "metadata": {},
     "output_type": "execute_result"
    },
    {
     "data": {
      "image/png": "[encoded data removed]",
      "text/plain": [
       "<Figure size 1296x288 with 4 Axes>"
      ]
     },
     "metadata": {},
     "output_type": "display_data"
    }
   ],
   "source": [
    "fig, ax_count = plt.subplots(1, 4, figsize=(18,4))\n",
    "ax_count[0].set_ylim(0,70000)\n",
    "ax_count[1].set_ylim(0,70000)\n",
    "ax_count[2].set_ylim(0,70000)\n",
    "ax_count[3].set_ylim(0,70000)\n",
    "sns.countplot(x='home_page', hue='device', data=data_join, ax=ax_count[0])\n",
    "sns.countplot(x='search_page', hue='device', data=data_join, ax=ax_count[1])\n",
    "sns.countplot(x='payment_page', hue='device', data=data_join, ax=ax_count[2])\n",
    "sns.countplot(x='confirmation_page', hue='device', data=data_join, ax=ax_count[3])"
   ]
  },
  {
   "cell_type": "markdown",
   "metadata": {},
   "source": [
    "Above two plots are the repeated/duplicated results of the previous two."
   ]
  },
  {
   "cell_type": "code",
   "execution_count": 32,
   "metadata": {},
   "outputs": [
    {
     "data": {
      "text/plain": [
       "user_id              90400\n",
       "home_page            90400\n",
       "search_page          45200\n",
       "payment_page          6030\n",
       "confirmation_page      452\n",
       "dtype: int64"
      ]
     },
     "execution_count": 32,
     "metadata": {},
     "output_type": "execute_result"
    }
   ],
   "source": [
    "data_join[['user_id', 'home_page', 'search_page', 'payment_page', 'confirmation_page']].count()"
   ]
  },
  {
   "cell_type": "code",
   "execution_count": 33,
   "metadata": {
    "scrolled": true
   },
   "outputs": [
    {
     "data": {
      "text/plain": [
       "<matplotlib.axes._subplots.AxesSubplot at 0x235d27061d0>"
      ]
     },
     "execution_count": 33,
     "metadata": {},
     "output_type": "execute_result"
    },
    {
     "data": {
      "image/png": "[encoded data removed]",
      "text/plain": [
       "<Figure size 1080x216 with 1 Axes>"
      ]
     },
     "metadata": {},
     "output_type": "display_data"
    }
   ],
   "source": [
    "fig, ax = plt.subplots(figsize=(15,3))\n",
    "\n",
    "data_join[['user_id', 'home_page', 'search_page', 'payment_page', 'confirmation_page']]\\\n",
    "    .count()\\\n",
    "    .plot(kind='bar', ax=ax)\n",
    "\n",
    "data_join[['user_id', 'home_page', 'search_page', 'payment_page', 'confirmation_page']]\\\n",
    "    .count()\\\n",
    "    .plot(kind='line', ax=ax, color='r')"
   ]
  },
  {
   "cell_type": "markdown",
   "metadata": {},
   "source": [
    "Here we have an overall view of how the number of users changes.\n",
    "\n",
    "Having an idea about the drop rate/conversion rate is the topic below."
   ]
  },
  {
   "cell_type": "code",
   "execution_count": 34,
   "metadata": {},
   "outputs": [
    {
     "data": {
      "text/plain": [
       "device                    \n",
       "Desktop  home_page            60200\n",
       "         search_page          30100\n",
       "         payment_page          3010\n",
       "         confirmation_page      150\n",
       "Mobile   home_page            30200\n",
       "         search_page          15100\n",
       "         payment_page          3020\n",
       "         confirmation_page      302\n",
       "dtype: int64"
      ]
     },
     "execution_count": 34,
     "metadata": {},
     "output_type": "execute_result"
    }
   ],
   "source": [
    "device_group = data_join.groupby(['device'])['home_page', 'search_page', 'payment_page', 'confirmation_page'].count()\n",
    "device_stack = device_group.stack()\n",
    "device_stack"
   ]
  },
  {
   "cell_type": "code",
   "execution_count": 35,
   "metadata": {},
   "outputs": [
    {
     "data": {
      "text/html": [
       "<div>\n",
       "<style scoped>\n",
       "    .dataframe tbody tr th:only-of-type {\n",
       "        vertical-align: middle;\n",
       "    }\n",
       "\n",
       "    .dataframe tbody tr th {\n",
       "        vertical-align: top;\n",
       "    }\n",
       "\n",
       "    .dataframe thead th {\n",
       "        text-align: right;\n",
       "    }\n",
       "</style>\n",
       "<table border=\"1\" class=\"dataframe\">\n",
       "  <thead>\n",
       "    <tr style=\"text-align: right;\">\n",
       "      <th>device</th>\n",
       "      <th>Desktop</th>\n",
       "      <th>Mobile</th>\n",
       "    </tr>\n",
       "  </thead>\n",
       "  <tbody>\n",
       "    <tr>\n",
       "      <th>home_page</th>\n",
       "      <td>60200</td>\n",
       "      <td>30200</td>\n",
       "    </tr>\n",
       "    <tr>\n",
       "      <th>search_page</th>\n",
       "      <td>30100</td>\n",
       "      <td>15100</td>\n",
       "    </tr>\n",
       "    <tr>\n",
       "      <th>payment_page</th>\n",
       "      <td>3010</td>\n",
       "      <td>3020</td>\n",
       "    </tr>\n",
       "    <tr>\n",
       "      <th>confirmation_page</th>\n",
       "      <td>150</td>\n",
       "      <td>302</td>\n",
       "    </tr>\n",
       "  </tbody>\n",
       "</table>\n",
       "</div>"
      ],
      "text/plain": [
       "device             Desktop  Mobile\n",
       "home_page            60200   30200\n",
       "search_page          30100   15100\n",
       "payment_page          3010    3020\n",
       "confirmation_page      150     302"
      ]
     },
     "execution_count": 35,
     "metadata": {},
     "output_type": "execute_result"
    }
   ],
   "source": [
    "data_join.groupby(['device'])['home_page', 'search_page', 'payment_page', 'confirmation_page'].count().T"
   ]
  },
  {
   "cell_type": "code",
   "execution_count": 36,
   "metadata": {
    "scrolled": true
   },
   "outputs": [
    {
     "data": {
      "text/plain": [
       "home_page            60200\n",
       "search_page          30100\n",
       "payment_page          3010\n",
       "confirmation_page      150\n",
       "dtype: int64"
      ]
     },
     "execution_count": 36,
     "metadata": {},
     "output_type": "execute_result"
    }
   ],
   "source": [
    "data_join[data_join['device'] == 'Desktop'][['home_page', 'search_page', 'payment_page', 'confirmation_page']].count()"
   ]
  },
  {
   "cell_type": "code",
   "execution_count": 37,
   "metadata": {
    "scrolled": true
   },
   "outputs": [
    {
     "data": {
      "text/plain": [
       "home_page            60200\n",
       "search_page          30100\n",
       "payment_page          3010\n",
       "confirmation_page      150\n",
       "Name: Desktop, dtype: int64"
      ]
     },
     "execution_count": 37,
     "metadata": {},
     "output_type": "execute_result"
    }
   ],
   "source": [
    "device_group.loc['Desktop']"
   ]
  },
  {
   "cell_type": "code",
   "execution_count": 38,
   "metadata": {},
   "outputs": [
    {
     "data": {
      "text/plain": [
       "60200"
      ]
     },
     "execution_count": 38,
     "metadata": {},
     "output_type": "execute_result"
    }
   ],
   "source": [
    "device_stack['Desktop']['home_page']"
   ]
  },
  {
   "cell_type": "code",
   "execution_count": 39,
   "metadata": {},
   "outputs": [
    {
     "data": {
      "text/html": [
       "<div>\n",
       "<style scoped>\n",
       "    .dataframe tbody tr th:only-of-type {\n",
       "        vertical-align: middle;\n",
       "    }\n",
       "\n",
       "    .dataframe tbody tr th {\n",
       "        vertical-align: top;\n",
       "    }\n",
       "\n",
       "    .dataframe thead th {\n",
       "        text-align: right;\n",
       "    }\n",
       "</style>\n",
       "<table border=\"1\" class=\"dataframe\">\n",
       "  <thead>\n",
       "    <tr style=\"text-align: right;\">\n",
       "      <th></th>\n",
       "      <th>home_drop</th>\n",
       "      <th>home_converted</th>\n",
       "      <th>search_drop</th>\n",
       "      <th>search_converted</th>\n",
       "      <th>payment_drop</th>\n",
       "      <th>payment_converted</th>\n",
       "    </tr>\n",
       "    <tr>\n",
       "      <th>device</th>\n",
       "      <th></th>\n",
       "      <th></th>\n",
       "      <th></th>\n",
       "      <th></th>\n",
       "      <th></th>\n",
       "      <th></th>\n",
       "    </tr>\n",
       "  </thead>\n",
       "  <tbody>\n",
       "    <tr>\n",
       "      <th>Desktop</th>\n",
       "      <td>30100</td>\n",
       "      <td>30100</td>\n",
       "      <td>27090</td>\n",
       "      <td>3010</td>\n",
       "      <td>2860</td>\n",
       "      <td>150</td>\n",
       "    </tr>\n",
       "    <tr>\n",
       "      <th>Mobile</th>\n",
       "      <td>15100</td>\n",
       "      <td>15100</td>\n",
       "      <td>12080</td>\n",
       "      <td>3020</td>\n",
       "      <td>2718</td>\n",
       "      <td>302</td>\n",
       "    </tr>\n",
       "  </tbody>\n",
       "</table>\n",
       "</div>"
      ],
      "text/plain": [
       "         home_drop  home_converted  search_drop  search_converted  payment_drop  payment_converted\n",
       "device                                                                                            \n",
       "Desktop      30100           30100        27090              3010          2860                150\n",
       "Mobile       15100           15100        12080              3020          2718                302"
      ]
     },
     "execution_count": 39,
     "metadata": {},
     "output_type": "execute_result"
    }
   ],
   "source": [
    "page_drop = pd.DataFrame()\n",
    "page_drop['home_drop'] = device_group['home_page'] - device_group['search_page']\n",
    "page_drop['home_converted'] = device_group['search_page']\n",
    "page_drop['search_drop'] = device_group['search_page'] - device_group['payment_page']\n",
    "page_drop['search_converted'] = device_group['payment_page']\n",
    "page_drop['payment_drop'] = device_group['payment_page'] - device_group['confirmation_page']\n",
    "page_drop['payment_converted'] = device_group['confirmation_page']\n",
    "page_drop"
   ]
  },
  {
   "cell_type": "code",
   "execution_count": 41,
   "metadata": {},
   "outputs": [
    {
     "data": {
      "text/plain": [
       "home_page            90400\n",
       "search_page          45200\n",
       "payment_page          6030\n",
       "confirmation_page      452\n",
       "dtype: int64"
      ]
     },
     "execution_count": 41,
     "metadata": {},
     "output_type": "execute_result"
    }
   ],
   "source": [
    "userPage_counts = data_join[['home_page', 'search_page', 'payment_page', 'confirmation_page']].count()\n",
    "userPage_counts"
   ]
  },
  {
   "cell_type": "code",
   "execution_count": 42,
   "metadata": {},
   "outputs": [],
   "source": [
    "index = ['home_page', 'search_page', 'payment_page', 'confirmation_page']\n",
    "column = ['total', 'converted', 'converted_rate', 'drop_rate']"
   ]
  },
  {
   "cell_type": "code",
   "execution_count": 43,
   "metadata": {},
   "outputs": [
    {
     "data": {
      "text/html": [
       "<div>\n",
       "<style scoped>\n",
       "    .dataframe tbody tr th:only-of-type {\n",
       "        vertical-align: middle;\n",
       "    }\n",
       "\n",
       "    .dataframe tbody tr th {\n",
       "        vertical-align: top;\n",
       "    }\n",
       "\n",
       "    .dataframe thead th {\n",
       "        text-align: right;\n",
       "    }\n",
       "</style>\n",
       "<table border=\"1\" class=\"dataframe\">\n",
       "  <thead>\n",
       "    <tr style=\"text-align: right;\">\n",
       "      <th></th>\n",
       "      <th>home_page</th>\n",
       "      <th>search_page</th>\n",
       "      <th>payment_page</th>\n",
       "      <th>confirmation_page</th>\n",
       "    </tr>\n",
       "  </thead>\n",
       "  <tbody>\n",
       "    <tr>\n",
       "      <th>0</th>\n",
       "      <td>90400</td>\n",
       "      <td>45200</td>\n",
       "      <td>6030</td>\n",
       "      <td>452</td>\n",
       "    </tr>\n",
       "  </tbody>\n",
       "</table>\n",
       "</div>"
      ],
      "text/plain": [
       "   home_page  search_page  payment_page  confirmation_page\n",
       "0      90400        45200          6030                452"
      ]
     },
     "execution_count": 43,
     "metadata": {},
     "output_type": "execute_result"
    }
   ],
   "source": [
    "pd.DataFrame([userPage_counts])"
   ]
  },
  {
   "cell_type": "code",
   "execution_count": 44,
   "metadata": {},
   "outputs": [
    {
     "data": {
      "text/plain": [
       "array([90400, 45200,  6030,   452], dtype=int64)"
      ]
     },
     "execution_count": 44,
     "metadata": {},
     "output_type": "execute_result"
    }
   ],
   "source": [
    "userPage_counts.values"
   ]
  },
  {
   "cell_type": "code",
   "execution_count": 45,
   "metadata": {},
   "outputs": [],
   "source": [
    "def convert_drop(series, index_array, column):\n",
    "    \n",
    "    initial = np.zeros((4,4))\n",
    "    initial[:, 0] = series.values # the first column\n",
    "    initial[0:3, 1] = initial[1:4, 0] # 2nd\n",
    "    initial[:, 2] = initial[:,1] / initial[:,0] # 3rd\n",
    "    initial[:, 3] = 1 - initial[:, 2] # 4th\n",
    "    desktop_converted = pd.DataFrame(initial, index=index_array, columns=column)\n",
    "    \n",
    "    return desktop_converted"
   ]
  },
  {
   "cell_type": "code",
   "execution_count": 46,
   "metadata": {},
   "outputs": [
    {
     "data": {
      "text/html": [
       "<div>\n",
       "<style scoped>\n",
       "    .dataframe tbody tr th:only-of-type {\n",
       "        vertical-align: middle;\n",
       "    }\n",
       "\n",
       "    .dataframe tbody tr th {\n",
       "        vertical-align: top;\n",
       "    }\n",
       "\n",
       "    .dataframe thead th {\n",
       "        text-align: right;\n",
       "    }\n",
       "</style>\n",
       "<table border=\"1\" class=\"dataframe\">\n",
       "  <thead>\n",
       "    <tr style=\"text-align: right;\">\n",
       "      <th></th>\n",
       "      <th></th>\n",
       "      <th>total</th>\n",
       "      <th>converted</th>\n",
       "      <th>converted_rate</th>\n",
       "      <th>drop_rate</th>\n",
       "    </tr>\n",
       "  </thead>\n",
       "  <tbody>\n",
       "    <tr>\n",
       "      <th rowspan=\"4\" valign=\"top\">Desktop</th>\n",
       "      <th>home_page</th>\n",
       "      <td>60200.0</td>\n",
       "      <td>30100.0</td>\n",
       "      <td>0.500000</td>\n",
       "      <td>0.500000</td>\n",
       "    </tr>\n",
       "    <tr>\n",
       "      <th>search_page</th>\n",
       "      <td>30100.0</td>\n",
       "      <td>3010.0</td>\n",
       "      <td>0.100000</td>\n",
       "      <td>0.900000</td>\n",
       "    </tr>\n",
       "    <tr>\n",
       "      <th>payment_page</th>\n",
       "      <td>3010.0</td>\n",
       "      <td>150.0</td>\n",
       "      <td>0.049834</td>\n",
       "      <td>0.950166</td>\n",
       "    </tr>\n",
       "    <tr>\n",
       "      <th>confirmation_page</th>\n",
       "      <td>150.0</td>\n",
       "      <td>0.0</td>\n",
       "      <td>0.000000</td>\n",
       "      <td>1.000000</td>\n",
       "    </tr>\n",
       "  </tbody>\n",
       "</table>\n",
       "</div>"
      ],
      "text/plain": [
       "                             total  converted  converted_rate  drop_rate\n",
       "Desktop home_page          60200.0    30100.0        0.500000   0.500000\n",
       "        search_page        30100.0     3010.0        0.100000   0.900000\n",
       "        payment_page        3010.0      150.0        0.049834   0.950166\n",
       "        confirmation_page    150.0        0.0        0.000000   1.000000"
      ]
     },
     "execution_count": 46,
     "metadata": {},
     "output_type": "execute_result"
    }
   ],
   "source": [
    "desktop_index = [['Desktop'] * 4] + [['home_page', 'search_page', 'payment_page', 'confirmation_page']]\n",
    "desktop_drop = convert_drop(device_group.loc['Desktop'], desktop_index, column)\n",
    "desktop_drop"
   ]
  },
  {
   "cell_type": "code",
   "execution_count": 47,
   "metadata": {},
   "outputs": [
    {
     "data": {
      "text/html": [
       "<div>\n",
       "<style scoped>\n",
       "    .dataframe tbody tr th:only-of-type {\n",
       "        vertical-align: middle;\n",
       "    }\n",
       "\n",
       "    .dataframe tbody tr th {\n",
       "        vertical-align: top;\n",
       "    }\n",
       "\n",
       "    .dataframe thead th {\n",
       "        text-align: right;\n",
       "    }\n",
       "</style>\n",
       "<table border=\"1\" class=\"dataframe\">\n",
       "  <thead>\n",
       "    <tr style=\"text-align: right;\">\n",
       "      <th></th>\n",
       "      <th></th>\n",
       "      <th>total</th>\n",
       "      <th>converted</th>\n",
       "      <th>converted_rate</th>\n",
       "      <th>drop_rate</th>\n",
       "    </tr>\n",
       "  </thead>\n",
       "  <tbody>\n",
       "    <tr>\n",
       "      <th rowspan=\"4\" valign=\"top\">Mobile</th>\n",
       "      <th>home_page</th>\n",
       "      <td>30200.0</td>\n",
       "      <td>15100.0</td>\n",
       "      <td>0.5</td>\n",
       "      <td>0.5</td>\n",
       "    </tr>\n",
       "    <tr>\n",
       "      <th>search_page</th>\n",
       "      <td>15100.0</td>\n",
       "      <td>3020.0</td>\n",
       "      <td>0.2</td>\n",
       "      <td>0.8</td>\n",
       "    </tr>\n",
       "    <tr>\n",
       "      <th>payment_page</th>\n",
       "      <td>3020.0</td>\n",
       "      <td>302.0</td>\n",
       "      <td>0.1</td>\n",
       "      <td>0.9</td>\n",
       "    </tr>\n",
       "    <tr>\n",
       "      <th>confirmation_page</th>\n",
       "      <td>302.0</td>\n",
       "      <td>0.0</td>\n",
       "      <td>0.0</td>\n",
       "      <td>1.0</td>\n",
       "    </tr>\n",
       "  </tbody>\n",
       "</table>\n",
       "</div>"
      ],
      "text/plain": [
       "                            total  converted  converted_rate  drop_rate\n",
       "Mobile home_page          30200.0    15100.0             0.5        0.5\n",
       "       search_page        15100.0     3020.0             0.2        0.8\n",
       "       payment_page        3020.0      302.0             0.1        0.9\n",
       "       confirmation_page    302.0        0.0             0.0        1.0"
      ]
     },
     "execution_count": 47,
     "metadata": {},
     "output_type": "execute_result"
    }
   ],
   "source": [
    "mobile_index = [['Mobile'] * 4] + [['home_page', 'search_page', 'payment_page', 'confirmation_page']]\n",
    "mobile_drop = convert_drop(device_group.loc['Mobile'], mobile_index, column)\n",
    "mobile_drop"
   ]
  },
  {
   "cell_type": "markdown",
   "metadata": {},
   "source": [
    "For both desktop and mobile, the significant user drop happens __from search to payment__ and __from payment to confirmation__."
   ]
  },
  {
   "cell_type": "code",
   "execution_count": 50,
   "metadata": {
    "scrolled": false
   },
   "outputs": [
    {
     "data": {
      "text/html": [
       "<div>\n",
       "<style scoped>\n",
       "    .dataframe tbody tr th:only-of-type {\n",
       "        vertical-align: middle;\n",
       "    }\n",
       "\n",
       "    .dataframe tbody tr th {\n",
       "        vertical-align: top;\n",
       "    }\n",
       "\n",
       "    .dataframe thead th {\n",
       "        text-align: right;\n",
       "    }\n",
       "</style>\n",
       "<table border=\"1\" class=\"dataframe\">\n",
       "  <thead>\n",
       "    <tr style=\"text-align: right;\">\n",
       "      <th></th>\n",
       "      <th></th>\n",
       "      <th>total</th>\n",
       "      <th>converted</th>\n",
       "      <th>converted_rate</th>\n",
       "      <th>drop_rate</th>\n",
       "    </tr>\n",
       "  </thead>\n",
       "  <tbody>\n",
       "    <tr>\n",
       "      <th rowspan=\"4\" valign=\"top\">Desktop</th>\n",
       "      <th>home_page</th>\n",
       "      <td>60200.0</td>\n",
       "      <td>30100.0</td>\n",
       "      <td>0.500000</td>\n",
       "      <td>0.500000</td>\n",
       "    </tr>\n",
       "    <tr>\n",
       "      <th>search_page</th>\n",
       "      <td>30100.0</td>\n",
       "      <td>3010.0</td>\n",
       "      <td>0.100000</td>\n",
       "      <td>0.900000</td>\n",
       "    </tr>\n",
       "    <tr>\n",
       "      <th>payment_page</th>\n",
       "      <td>3010.0</td>\n",
       "      <td>150.0</td>\n",
       "      <td>0.049834</td>\n",
       "      <td>0.950166</td>\n",
       "    </tr>\n",
       "    <tr>\n",
       "      <th>confirmation_page</th>\n",
       "      <td>150.0</td>\n",
       "      <td>0.0</td>\n",
       "      <td>0.000000</td>\n",
       "      <td>1.000000</td>\n",
       "    </tr>\n",
       "    <tr>\n",
       "      <th rowspan=\"4\" valign=\"top\">Mobile</th>\n",
       "      <th>home_page</th>\n",
       "      <td>30200.0</td>\n",
       "      <td>15100.0</td>\n",
       "      <td>0.500000</td>\n",
       "      <td>0.500000</td>\n",
       "    </tr>\n",
       "    <tr>\n",
       "      <th>search_page</th>\n",
       "      <td>15100.0</td>\n",
       "      <td>3020.0</td>\n",
       "      <td>0.200000</td>\n",
       "      <td>0.800000</td>\n",
       "    </tr>\n",
       "    <tr>\n",
       "      <th>payment_page</th>\n",
       "      <td>3020.0</td>\n",
       "      <td>302.0</td>\n",
       "      <td>0.100000</td>\n",
       "      <td>0.900000</td>\n",
       "    </tr>\n",
       "    <tr>\n",
       "      <th>confirmation_page</th>\n",
       "      <td>302.0</td>\n",
       "      <td>0.0</td>\n",
       "      <td>0.000000</td>\n",
       "      <td>1.000000</td>\n",
       "    </tr>\n",
       "  </tbody>\n",
       "</table>\n",
       "</div>"
      ],
      "text/plain": [
       "                             total  converted  converted_rate  drop_rate\n",
       "Desktop home_page          60200.0    30100.0        0.500000   0.500000\n",
       "        search_page        30100.0     3010.0        0.100000   0.900000\n",
       "        payment_page        3010.0      150.0        0.049834   0.950166\n",
       "        confirmation_page    150.0        0.0        0.000000   1.000000\n",
       "Mobile  home_page          30200.0    15100.0        0.500000   0.500000\n",
       "        search_page        15100.0     3020.0        0.200000   0.800000\n",
       "        payment_page        3020.0      302.0        0.100000   0.900000\n",
       "        confirmation_page    302.0        0.0        0.000000   1.000000"
      ]
     },
     "execution_count": 50,
     "metadata": {},
     "output_type": "execute_result"
    }
   ],
   "source": [
    "pd.concat([desktop_drop, mobile_drop])"
   ]
  },
  {
   "cell_type": "code",
   "execution_count": 51,
   "metadata": {},
   "outputs": [
    {
     "data": {
      "text/html": [
       "<div>\n",
       "<style scoped>\n",
       "    .dataframe tbody tr th:only-of-type {\n",
       "        vertical-align: middle;\n",
       "    }\n",
       "\n",
       "    .dataframe tbody tr th {\n",
       "        vertical-align: top;\n",
       "    }\n",
       "\n",
       "    .dataframe thead th {\n",
       "        text-align: right;\n",
       "    }\n",
       "</style>\n",
       "<table border=\"1\" class=\"dataframe\">\n",
       "  <thead>\n",
       "    <tr style=\"text-align: right;\">\n",
       "      <th></th>\n",
       "      <th></th>\n",
       "      <th>total</th>\n",
       "      <th>converted</th>\n",
       "      <th>converted_rate</th>\n",
       "      <th>drop_rate</th>\n",
       "    </tr>\n",
       "  </thead>\n",
       "  <tbody>\n",
       "    <tr>\n",
       "      <th rowspan=\"4\" valign=\"top\">Desktop</th>\n",
       "      <th>home_page</th>\n",
       "      <td>60200.0</td>\n",
       "      <td>30100.0</td>\n",
       "      <td>0.500000</td>\n",
       "      <td>0.500000</td>\n",
       "    </tr>\n",
       "    <tr>\n",
       "      <th>search_page</th>\n",
       "      <td>30100.0</td>\n",
       "      <td>3010.0</td>\n",
       "      <td>0.100000</td>\n",
       "      <td>0.900000</td>\n",
       "    </tr>\n",
       "    <tr>\n",
       "      <th>payment_page</th>\n",
       "      <td>3010.0</td>\n",
       "      <td>150.0</td>\n",
       "      <td>0.049834</td>\n",
       "      <td>0.950166</td>\n",
       "    </tr>\n",
       "    <tr>\n",
       "      <th>confirmation_page</th>\n",
       "      <td>150.0</td>\n",
       "      <td>0.0</td>\n",
       "      <td>0.000000</td>\n",
       "      <td>1.000000</td>\n",
       "    </tr>\n",
       "    <tr>\n",
       "      <th rowspan=\"4\" valign=\"top\">Mobile</th>\n",
       "      <th>home_page</th>\n",
       "      <td>30200.0</td>\n",
       "      <td>15100.0</td>\n",
       "      <td>0.500000</td>\n",
       "      <td>0.500000</td>\n",
       "    </tr>\n",
       "    <tr>\n",
       "      <th>search_page</th>\n",
       "      <td>15100.0</td>\n",
       "      <td>3020.0</td>\n",
       "      <td>0.200000</td>\n",
       "      <td>0.800000</td>\n",
       "    </tr>\n",
       "    <tr>\n",
       "      <th>payment_page</th>\n",
       "      <td>3020.0</td>\n",
       "      <td>302.0</td>\n",
       "      <td>0.100000</td>\n",
       "      <td>0.900000</td>\n",
       "    </tr>\n",
       "    <tr>\n",
       "      <th>confirmation_page</th>\n",
       "      <td>302.0</td>\n",
       "      <td>0.0</td>\n",
       "      <td>0.000000</td>\n",
       "      <td>1.000000</td>\n",
       "    </tr>\n",
       "  </tbody>\n",
       "</table>\n",
       "</div>"
      ],
      "text/plain": [
       "                             total  converted  converted_rate  drop_rate\n",
       "Desktop home_page          60200.0    30100.0        0.500000   0.500000\n",
       "        search_page        30100.0     3010.0        0.100000   0.900000\n",
       "        payment_page        3010.0      150.0        0.049834   0.950166\n",
       "        confirmation_page    150.0        0.0        0.000000   1.000000\n",
       "Mobile  home_page          30200.0    15100.0        0.500000   0.500000\n",
       "        search_page        15100.0     3020.0        0.200000   0.800000\n",
       "        payment_page        3020.0      302.0        0.100000   0.900000\n",
       "        confirmation_page    302.0        0.0        0.000000   1.000000"
      ]
     },
     "execution_count": 51,
     "metadata": {},
     "output_type": "execute_result"
    }
   ],
   "source": [
    "device_drop = desktop_drop.append(mobile_drop)\n",
    "device_drop"
   ]
  },
  {
   "cell_type": "markdown",
   "metadata": {},
   "source": [
    "Here I tried two ways, i.e. pd.concat() and df.append(), to combine desktop and mobile result together."
   ]
  },
  {
   "cell_type": "code",
   "execution_count": 181,
   "metadata": {},
   "outputs": [],
   "source": [
    "device_drop['converted_rate'] = device_drop['converted_rate'].round(2)\n",
    "device_drop['drop_rate'] = device_drop['drop_rate'].round(2)"
   ]
  },
  {
   "cell_type": "code",
   "execution_count": 182,
   "metadata": {},
   "outputs": [
    {
     "data": {
      "text/html": [
       "<div>\n",
       "<style scoped>\n",
       "    .dataframe tbody tr th:only-of-type {\n",
       "        vertical-align: middle;\n",
       "    }\n",
       "\n",
       "    .dataframe tbody tr th {\n",
       "        vertical-align: top;\n",
       "    }\n",
       "\n",
       "    .dataframe thead th {\n",
       "        text-align: right;\n",
       "    }\n",
       "</style>\n",
       "<table border=\"1\" class=\"dataframe\">\n",
       "  <thead>\n",
       "    <tr style=\"text-align: right;\">\n",
       "      <th></th>\n",
       "      <th></th>\n",
       "      <th>total</th>\n",
       "      <th>converted</th>\n",
       "      <th>converted_rate</th>\n",
       "      <th>drop_rate</th>\n",
       "    </tr>\n",
       "  </thead>\n",
       "  <tbody>\n",
       "    <tr>\n",
       "      <th rowspan=\"4\" valign=\"top\">Desktop</th>\n",
       "      <th>home_page</th>\n",
       "      <td>60200.0</td>\n",
       "      <td>30100.0</td>\n",
       "      <td>0.50</td>\n",
       "      <td>0.50</td>\n",
       "    </tr>\n",
       "    <tr>\n",
       "      <th>search_page</th>\n",
       "      <td>30100.0</td>\n",
       "      <td>3010.0</td>\n",
       "      <td>0.10</td>\n",
       "      <td>0.90</td>\n",
       "    </tr>\n",
       "    <tr>\n",
       "      <th>payment_page</th>\n",
       "      <td>3010.0</td>\n",
       "      <td>150.0</td>\n",
       "      <td>0.05</td>\n",
       "      <td>0.95</td>\n",
       "    </tr>\n",
       "    <tr>\n",
       "      <th>confirmation_page</th>\n",
       "      <td>150.0</td>\n",
       "      <td>0.0</td>\n",
       "      <td>0.00</td>\n",
       "      <td>1.00</td>\n",
       "    </tr>\n",
       "    <tr>\n",
       "      <th rowspan=\"4\" valign=\"top\">Mobile</th>\n",
       "      <th>home_page</th>\n",
       "      <td>30200.0</td>\n",
       "      <td>15100.0</td>\n",
       "      <td>0.50</td>\n",
       "      <td>0.50</td>\n",
       "    </tr>\n",
       "    <tr>\n",
       "      <th>search_page</th>\n",
       "      <td>15100.0</td>\n",
       "      <td>3020.0</td>\n",
       "      <td>0.20</td>\n",
       "      <td>0.80</td>\n",
       "    </tr>\n",
       "    <tr>\n",
       "      <th>payment_page</th>\n",
       "      <td>3020.0</td>\n",
       "      <td>302.0</td>\n",
       "      <td>0.10</td>\n",
       "      <td>0.90</td>\n",
       "    </tr>\n",
       "    <tr>\n",
       "      <th>confirmation_page</th>\n",
       "      <td>302.0</td>\n",
       "      <td>0.0</td>\n",
       "      <td>0.00</td>\n",
       "      <td>1.00</td>\n",
       "    </tr>\n",
       "  </tbody>\n",
       "</table>\n",
       "</div>"
      ],
      "text/plain": [
       "                             total  converted  converted_rate  drop_rate\n",
       "Desktop home_page          60200.0    30100.0            0.50       0.50\n",
       "        search_page        30100.0     3010.0            0.10       0.90\n",
       "        payment_page        3010.0      150.0            0.05       0.95\n",
       "        confirmation_page    150.0        0.0            0.00       1.00\n",
       "Mobile  home_page          30200.0    15100.0            0.50       0.50\n",
       "        search_page        15100.0     3020.0            0.20       0.80\n",
       "        payment_page        3020.0      302.0            0.10       0.90\n",
       "        confirmation_page    302.0        0.0            0.00       1.00"
      ]
     },
     "execution_count": 182,
     "metadata": {},
     "output_type": "execute_result"
    }
   ],
   "source": [
    "device_drop"
   ]
  },
  {
   "cell_type": "markdown",
   "metadata": {},
   "source": [
    "Here I round the number to two decimal places. In this way, the table is more clear to read."
   ]
  },
  {
   "cell_type": "markdown",
   "metadata": {},
   "source": [
    "## From here we exam the time or date related factors."
   ]
  },
  {
   "cell_type": "code",
   "execution_count": 52,
   "metadata": {},
   "outputs": [
    {
     "data": {
      "text/html": [
       "<div>\n",
       "<style scoped>\n",
       "    .dataframe tbody tr th:only-of-type {\n",
       "        vertical-align: middle;\n",
       "    }\n",
       "\n",
       "    .dataframe tbody tr th {\n",
       "        vertical-align: top;\n",
       "    }\n",
       "\n",
       "    .dataframe thead th {\n",
       "        text-align: right;\n",
       "    }\n",
       "</style>\n",
       "<table border=\"1\" class=\"dataframe\">\n",
       "  <thead>\n",
       "    <tr style=\"text-align: right;\">\n",
       "      <th></th>\n",
       "      <th>user_id</th>\n",
       "      <th>date</th>\n",
       "      <th>device</th>\n",
       "      <th>sex</th>\n",
       "      <th>home_page</th>\n",
       "      <th>search_page</th>\n",
       "      <th>payment_page</th>\n",
       "      <th>confirmation_page</th>\n",
       "    </tr>\n",
       "  </thead>\n",
       "  <tbody>\n",
       "    <tr>\n",
       "      <th>0</th>\n",
       "      <td>450007</td>\n",
       "      <td>2015-02-28</td>\n",
       "      <td>Desktop</td>\n",
       "      <td>Female</td>\n",
       "      <td>home_page</td>\n",
       "      <td>NaN</td>\n",
       "      <td>NaN</td>\n",
       "      <td>NaN</td>\n",
       "    </tr>\n",
       "    <tr>\n",
       "      <th>1</th>\n",
       "      <td>756838</td>\n",
       "      <td>2015-01-13</td>\n",
       "      <td>Desktop</td>\n",
       "      <td>Male</td>\n",
       "      <td>home_page</td>\n",
       "      <td>NaN</td>\n",
       "      <td>NaN</td>\n",
       "      <td>NaN</td>\n",
       "    </tr>\n",
       "    <tr>\n",
       "      <th>2</th>\n",
       "      <td>568983</td>\n",
       "      <td>2015-04-09</td>\n",
       "      <td>Desktop</td>\n",
       "      <td>Male</td>\n",
       "      <td>home_page</td>\n",
       "      <td>search_page</td>\n",
       "      <td>NaN</td>\n",
       "      <td>NaN</td>\n",
       "    </tr>\n",
       "    <tr>\n",
       "      <th>3</th>\n",
       "      <td>190794</td>\n",
       "      <td>2015-02-18</td>\n",
       "      <td>Desktop</td>\n",
       "      <td>Female</td>\n",
       "      <td>home_page</td>\n",
       "      <td>search_page</td>\n",
       "      <td>NaN</td>\n",
       "      <td>NaN</td>\n",
       "    </tr>\n",
       "    <tr>\n",
       "      <th>4</th>\n",
       "      <td>537909</td>\n",
       "      <td>2015-01-15</td>\n",
       "      <td>Desktop</td>\n",
       "      <td>Male</td>\n",
       "      <td>home_page</td>\n",
       "      <td>NaN</td>\n",
       "      <td>NaN</td>\n",
       "      <td>NaN</td>\n",
       "    </tr>\n",
       "  </tbody>\n",
       "</table>\n",
       "</div>"
      ],
      "text/plain": [
       "   user_id        date   device     sex  home_page  search_page payment_page confirmation_page\n",
       "0   450007  2015-02-28  Desktop  Female  home_page          NaN          NaN               NaN\n",
       "1   756838  2015-01-13  Desktop    Male  home_page          NaN          NaN               NaN\n",
       "2   568983  2015-04-09  Desktop    Male  home_page  search_page          NaN               NaN\n",
       "3   190794  2015-02-18  Desktop  Female  home_page  search_page          NaN               NaN\n",
       "4   537909  2015-01-15  Desktop    Male  home_page          NaN          NaN               NaN"
      ]
     },
     "execution_count": 52,
     "metadata": {},
     "output_type": "execute_result"
    }
   ],
   "source": [
    "data_join.head()"
   ]
  },
  {
   "cell_type": "code",
   "execution_count": 53,
   "metadata": {},
   "outputs": [],
   "source": [
    "data_join['date'] = pd.to_datetime(data_join['date'])"
   ]
  },
  {
   "cell_type": "code",
   "execution_count": 54,
   "metadata": {},
   "outputs": [
    {
     "name": "stdout",
     "output_type": "stream",
     "text": [
      "<class 'pandas.core.frame.DataFrame'>\n",
      "Int64Index: 90400 entries, 0 to 90399\n",
      "Data columns (total 8 columns):\n",
      "user_id              90400 non-null int64\n",
      "date                 90400 non-null datetime64[ns]\n",
      "device               90400 non-null object\n",
      "sex                  90400 non-null object\n",
      "home_page            90400 non-null object\n",
      "search_page          45200 non-null object\n",
      "payment_page         6030 non-null object\n",
      "confirmation_page    452 non-null object\n",
      "dtypes: datetime64[ns](1), int64(1), object(6)\n",
      "memory usage: 8.7+ MB\n"
     ]
    }
   ],
   "source": [
    "data_join.info()"
   ]
  },
  {
   "cell_type": "code",
   "execution_count": 55,
   "metadata": {},
   "outputs": [
    {
     "data": {
      "text/plain": [
       "count                   90400\n",
       "unique                    120\n",
       "top       2015-02-08 00:00:00\n",
       "freq                      877\n",
       "first     2015-01-01 00:00:00\n",
       "last      2015-04-30 00:00:00\n",
       "Name: date, dtype: object"
      ]
     },
     "execution_count": 55,
     "metadata": {},
     "output_type": "execute_result"
    }
   ],
   "source": [
    "data_join['date'].describe()"
   ]
  },
  {
   "cell_type": "code",
   "execution_count": 56,
   "metadata": {},
   "outputs": [
    {
     "data": {
      "text/plain": [
       "(Timestamp('2015-01-01 00:00:00'),\n",
       " Timestamp('2015-04-30 00:00:00'),\n",
       " Timedelta('120 days 00:00:00'))"
      ]
     },
     "execution_count": 56,
     "metadata": {},
     "output_type": "execute_result"
    }
   ],
   "source": [
    "data_join['date'].min(), data_join['date'].max(), data_join['date'].max() - data_join['date'].min() + pd.Timedelta(days = 1)"
   ]
  },
  {
   "cell_type": "code",
   "execution_count": 57,
   "metadata": {},
   "outputs": [
    {
     "data": {
      "text/plain": [
       "120"
      ]
     },
     "execution_count": 57,
     "metadata": {},
     "output_type": "execute_result"
    }
   ],
   "source": [
    "data_join['date'].nunique()"
   ]
  },
  {
   "cell_type": "markdown",
   "metadata": {},
   "source": [
    "The whole data spans from Jan. 2015 to Apr. 2015. And the total dates are 120.  \n",
    "Details: 2015-01-01-2015-04-30"
   ]
  },
  {
   "cell_type": "code",
   "execution_count": 63,
   "metadata": {},
   "outputs": [
    {
     "data": {
      "text/plain": [
       "<matplotlib.axes._subplots.AxesSubplot at 0x235d388d5f8>"
      ]
     },
     "execution_count": 63,
     "metadata": {},
     "output_type": "execute_result"
    },
    {
     "data": {
      "image/png": "[encoded data removed]",
      "text/plain": [
       "<Figure size 432x288 with 1 Axes>"
      ]
     },
     "metadata": {},
     "output_type": "display_data"
    }
   ],
   "source": [
    "data_join.groupby('date').size().plot()"
   ]
  },
  {
   "cell_type": "code",
   "execution_count": 59,
   "metadata": {},
   "outputs": [
    {
     "data": {
      "text/plain": [
       "<matplotlib.axes._subplots.AxesSubplot at 0x235d36a8fd0>"
      ]
     },
     "execution_count": 59,
     "metadata": {},
     "output_type": "execute_result"
    },
    {
     "data": {
      "image/png": "[encoded data removed]",
      "text/plain": [
       "<Figure size 432x288 with 1 Axes>"
      ]
     },
     "metadata": {},
     "output_type": "display_data"
    }
   ],
   "source": [
    "data_join.groupby('date')['home_page'].count().plot()"
   ]
  },
  {
   "cell_type": "markdown",
   "metadata": {},
   "source": [
    "The line plot of the number of users visiting the home page. There is a small __bump__ or __peak__ during February. We can check what is happening during this time. It could be a special period of time, like __a festival__ or __some shopping events__."
   ]
  },
  {
   "cell_type": "markdown",
   "metadata": {},
   "source": [
    "The difference between the number of users in Februray, the peak month, and those in other months is around __50__."
   ]
  },
  {
   "cell_type": "code",
   "execution_count": 60,
   "metadata": {},
   "outputs": [
    {
     "data": {
      "text/plain": [
       "<matplotlib.axes._subplots.AxesSubplot at 0x235d372af28>"
      ]
     },
     "execution_count": 60,
     "metadata": {},
     "output_type": "execute_result"
    },
    {
     "data": {
      "image/png": "[encoded data removed]",
      "text/plain": [
       "<Figure size 432x288 with 1 Axes>"
      ]
     },
     "metadata": {},
     "output_type": "display_data"
    }
   ],
   "source": [
    "data_join.groupby('date')['search_page'].count().plot()"
   ]
  },
  {
   "cell_type": "markdown",
   "metadata": {},
   "source": [
    "## try to talk about the reason for the number drop\n",
    "\n",
    "+ there is a bug on the site\n",
    "+ there is a bug in the code that logs user behaviors and stores it into some table in database.\n",
    "+ there is a problem with the query"
   ]
  },
  {
   "cell_type": "markdown",
   "metadata": {},
   "source": [
    "The number of users hitting on the search page is high in January and Februray, but it dropped suddenly in March.  \n",
    "\n",
    "The difference is around __150__, much larger than the drop on the home page.\n",
    "\n",
    "Similar things happen to the number of users visiting the payment page and confirmation page.  \n",
    "The following drop on the user number hitting payment_page and confirmation_page can be caused by the drop of the number of users visiting the search page."
   ]
  },
  {
   "cell_type": "code",
   "execution_count": 61,
   "metadata": {
    "scrolled": false
   },
   "outputs": [
    {
     "data": {
      "text/plain": [
       "<matplotlib.axes._subplots.AxesSubplot at 0x235d37b3ac8>"
      ]
     },
     "execution_count": 61,
     "metadata": {},
     "output_type": "execute_result"
    },
    {
     "data": {
      "image/png": "[encoded data removed]",
      "text/plain": [
       "<Figure size 432x288 with 1 Axes>"
      ]
     },
     "metadata": {},
     "output_type": "display_data"
    }
   ],
   "source": [
    "data_join.groupby('date')['payment_page'].count().plot()"
   ]
  },
  {
   "cell_type": "markdown",
   "metadata": {},
   "source": [
    "The drop is around __60__."
   ]
  },
  {
   "cell_type": "code",
   "execution_count": 62,
   "metadata": {},
   "outputs": [
    {
     "data": {
      "text/plain": [
       "<matplotlib.axes._subplots.AxesSubplot at 0x235d370c198>"
      ]
     },
     "execution_count": 62,
     "metadata": {},
     "output_type": "execute_result"
    },
    {
     "data": {
      "image/png": "[encoded data removed]",
      "text/plain": [
       "<Figure size 432x288 with 1 Axes>"
      ]
     },
     "metadata": {},
     "output_type": "display_data"
    }
   ],
   "source": [
    "data_join.groupby('date')['confirmation_page'].count().plot()"
   ]
  },
  {
   "cell_type": "markdown",
   "metadata": {},
   "source": [
    "The drop is around __5__."
   ]
  },
  {
   "cell_type": "code",
   "execution_count": 64,
   "metadata": {},
   "outputs": [
    {
     "data": {
      "text/html": [
       "<div>\n",
       "<style scoped>\n",
       "    .dataframe tbody tr th:only-of-type {\n",
       "        vertical-align: middle;\n",
       "    }\n",
       "\n",
       "    .dataframe tbody tr th {\n",
       "        vertical-align: top;\n",
       "    }\n",
       "\n",
       "    .dataframe thead th {\n",
       "        text-align: right;\n",
       "    }\n",
       "</style>\n",
       "<table border=\"1\" class=\"dataframe\">\n",
       "  <thead>\n",
       "    <tr style=\"text-align: right;\">\n",
       "      <th></th>\n",
       "      <th>user_id</th>\n",
       "      <th>date</th>\n",
       "      <th>device</th>\n",
       "      <th>sex</th>\n",
       "      <th>home_page</th>\n",
       "      <th>search_page</th>\n",
       "      <th>payment_page</th>\n",
       "      <th>confirmation_page</th>\n",
       "    </tr>\n",
       "  </thead>\n",
       "  <tbody>\n",
       "    <tr>\n",
       "      <th>0</th>\n",
       "      <td>450007</td>\n",
       "      <td>2015-02-28</td>\n",
       "      <td>Desktop</td>\n",
       "      <td>Female</td>\n",
       "      <td>home_page</td>\n",
       "      <td>NaN</td>\n",
       "      <td>NaN</td>\n",
       "      <td>NaN</td>\n",
       "    </tr>\n",
       "    <tr>\n",
       "      <th>1</th>\n",
       "      <td>756838</td>\n",
       "      <td>2015-01-13</td>\n",
       "      <td>Desktop</td>\n",
       "      <td>Male</td>\n",
       "      <td>home_page</td>\n",
       "      <td>NaN</td>\n",
       "      <td>NaN</td>\n",
       "      <td>NaN</td>\n",
       "    </tr>\n",
       "    <tr>\n",
       "      <th>2</th>\n",
       "      <td>568983</td>\n",
       "      <td>2015-04-09</td>\n",
       "      <td>Desktop</td>\n",
       "      <td>Male</td>\n",
       "      <td>home_page</td>\n",
       "      <td>search_page</td>\n",
       "      <td>NaN</td>\n",
       "      <td>NaN</td>\n",
       "    </tr>\n",
       "    <tr>\n",
       "      <th>3</th>\n",
       "      <td>190794</td>\n",
       "      <td>2015-02-18</td>\n",
       "      <td>Desktop</td>\n",
       "      <td>Female</td>\n",
       "      <td>home_page</td>\n",
       "      <td>search_page</td>\n",
       "      <td>NaN</td>\n",
       "      <td>NaN</td>\n",
       "    </tr>\n",
       "    <tr>\n",
       "      <th>4</th>\n",
       "      <td>537909</td>\n",
       "      <td>2015-01-15</td>\n",
       "      <td>Desktop</td>\n",
       "      <td>Male</td>\n",
       "      <td>home_page</td>\n",
       "      <td>NaN</td>\n",
       "      <td>NaN</td>\n",
       "      <td>NaN</td>\n",
       "    </tr>\n",
       "  </tbody>\n",
       "</table>\n",
       "</div>"
      ],
      "text/plain": [
       "   user_id       date   device     sex  home_page  search_page payment_page confirmation_page\n",
       "0   450007 2015-02-28  Desktop  Female  home_page          NaN          NaN               NaN\n",
       "1   756838 2015-01-13  Desktop    Male  home_page          NaN          NaN               NaN\n",
       "2   568983 2015-04-09  Desktop    Male  home_page  search_page          NaN               NaN\n",
       "3   190794 2015-02-18  Desktop  Female  home_page  search_page          NaN               NaN\n",
       "4   537909 2015-01-15  Desktop    Male  home_page          NaN          NaN               NaN"
      ]
     },
     "execution_count": 64,
     "metadata": {},
     "output_type": "execute_result"
    }
   ],
   "source": [
    "data_join.head()"
   ]
  },
  {
   "cell_type": "code",
   "execution_count": 65,
   "metadata": {},
   "outputs": [],
   "source": [
    "data_deviceGroup = data_join.groupby(['date','device'])['home_page', 'search_page', 'payment_page', 'confirmation_page'].count()\n",
    "data_deviceUnstack = data_deviceGroup.unstack()"
   ]
  },
  {
   "cell_type": "code",
   "execution_count": 66,
   "metadata": {
    "scrolled": true
   },
   "outputs": [
    {
     "data": {
      "text/html": [
       "<div>\n",
       "<style scoped>\n",
       "    .dataframe tbody tr th:only-of-type {\n",
       "        vertical-align: middle;\n",
       "    }\n",
       "\n",
       "    .dataframe tbody tr th {\n",
       "        vertical-align: top;\n",
       "    }\n",
       "\n",
       "    .dataframe thead tr th {\n",
       "        text-align: left;\n",
       "    }\n",
       "\n",
       "    .dataframe thead tr:last-of-type th {\n",
       "        text-align: right;\n",
       "    }\n",
       "</style>\n",
       "<table border=\"1\" class=\"dataframe\">\n",
       "  <thead>\n",
       "    <tr>\n",
       "      <th></th>\n",
       "      <th colspan=\"2\" halign=\"left\">home_page</th>\n",
       "      <th colspan=\"2\" halign=\"left\">search_page</th>\n",
       "      <th colspan=\"2\" halign=\"left\">payment_page</th>\n",
       "      <th colspan=\"2\" halign=\"left\">confirmation_page</th>\n",
       "    </tr>\n",
       "    <tr>\n",
       "      <th>device</th>\n",
       "      <th>Desktop</th>\n",
       "      <th>Mobile</th>\n",
       "      <th>Desktop</th>\n",
       "      <th>Mobile</th>\n",
       "      <th>Desktop</th>\n",
       "      <th>Mobile</th>\n",
       "      <th>Desktop</th>\n",
       "      <th>Mobile</th>\n",
       "    </tr>\n",
       "    <tr>\n",
       "      <th>date</th>\n",
       "      <th></th>\n",
       "      <th></th>\n",
       "      <th></th>\n",
       "      <th></th>\n",
       "      <th></th>\n",
       "      <th></th>\n",
       "      <th></th>\n",
       "      <th></th>\n",
       "    </tr>\n",
       "  </thead>\n",
       "  <tbody>\n",
       "    <tr>\n",
       "      <th>2015-01-01</th>\n",
       "      <td>493</td>\n",
       "      <td>219</td>\n",
       "      <td>256</td>\n",
       "      <td>180</td>\n",
       "      <td>47</td>\n",
       "      <td>29</td>\n",
       "      <td>1</td>\n",
       "      <td>5</td>\n",
       "    </tr>\n",
       "    <tr>\n",
       "      <th>2015-01-02</th>\n",
       "      <td>484</td>\n",
       "      <td>237</td>\n",
       "      <td>261</td>\n",
       "      <td>186</td>\n",
       "      <td>44</td>\n",
       "      <td>40</td>\n",
       "      <td>1</td>\n",
       "      <td>4</td>\n",
       "    </tr>\n",
       "    <tr>\n",
       "      <th>2015-01-03</th>\n",
       "      <td>507</td>\n",
       "      <td>253</td>\n",
       "      <td>222</td>\n",
       "      <td>200</td>\n",
       "      <td>22</td>\n",
       "      <td>42</td>\n",
       "      <td>3</td>\n",
       "      <td>4</td>\n",
       "    </tr>\n",
       "    <tr>\n",
       "      <th>2015-01-04</th>\n",
       "      <td>474</td>\n",
       "      <td>239</td>\n",
       "      <td>249</td>\n",
       "      <td>198</td>\n",
       "      <td>38</td>\n",
       "      <td>38</td>\n",
       "      <td>1</td>\n",
       "      <td>6</td>\n",
       "    </tr>\n",
       "    <tr>\n",
       "      <th>2015-01-05</th>\n",
       "      <td>483</td>\n",
       "      <td>271</td>\n",
       "      <td>249</td>\n",
       "      <td>213</td>\n",
       "      <td>37</td>\n",
       "      <td>51</td>\n",
       "      <td>3</td>\n",
       "      <td>8</td>\n",
       "    </tr>\n",
       "    <tr>\n",
       "      <th>2015-01-06</th>\n",
       "      <td>491</td>\n",
       "      <td>251</td>\n",
       "      <td>247</td>\n",
       "      <td>198</td>\n",
       "      <td>34</td>\n",
       "      <td>33</td>\n",
       "      <td>1</td>\n",
       "      <td>8</td>\n",
       "    </tr>\n",
       "    <tr>\n",
       "      <th>2015-01-07</th>\n",
       "      <td>489</td>\n",
       "      <td>205</td>\n",
       "      <td>243</td>\n",
       "      <td>161</td>\n",
       "      <td>27</td>\n",
       "      <td>28</td>\n",
       "      <td>2</td>\n",
       "      <td>2</td>\n",
       "    </tr>\n",
       "    <tr>\n",
       "      <th>2015-01-08</th>\n",
       "      <td>479</td>\n",
       "      <td>235</td>\n",
       "      <td>216</td>\n",
       "      <td>193</td>\n",
       "      <td>31</td>\n",
       "      <td>33</td>\n",
       "      <td>2</td>\n",
       "      <td>3</td>\n",
       "    </tr>\n",
       "    <tr>\n",
       "      <th>2015-01-09</th>\n",
       "      <td>470</td>\n",
       "      <td>243</td>\n",
       "      <td>218</td>\n",
       "      <td>188</td>\n",
       "      <td>37</td>\n",
       "      <td>39</td>\n",
       "      <td>1</td>\n",
       "      <td>3</td>\n",
       "    </tr>\n",
       "    <tr>\n",
       "      <th>2015-01-10</th>\n",
       "      <td>479</td>\n",
       "      <td>251</td>\n",
       "      <td>258</td>\n",
       "      <td>191</td>\n",
       "      <td>44</td>\n",
       "      <td>33</td>\n",
       "      <td>3</td>\n",
       "      <td>4</td>\n",
       "    </tr>\n",
       "    <tr>\n",
       "      <th>2015-01-11</th>\n",
       "      <td>487</td>\n",
       "      <td>253</td>\n",
       "      <td>253</td>\n",
       "      <td>193</td>\n",
       "      <td>34</td>\n",
       "      <td>45</td>\n",
       "      <td>2</td>\n",
       "      <td>5</td>\n",
       "    </tr>\n",
       "    <tr>\n",
       "      <th>2015-01-12</th>\n",
       "      <td>499</td>\n",
       "      <td>242</td>\n",
       "      <td>255</td>\n",
       "      <td>193</td>\n",
       "      <td>42</td>\n",
       "      <td>33</td>\n",
       "      <td>2</td>\n",
       "      <td>4</td>\n",
       "    </tr>\n",
       "    <tr>\n",
       "      <th>2015-01-13</th>\n",
       "      <td>484</td>\n",
       "      <td>209</td>\n",
       "      <td>249</td>\n",
       "      <td>172</td>\n",
       "      <td>37</td>\n",
       "      <td>39</td>\n",
       "      <td>1</td>\n",
       "      <td>0</td>\n",
       "    </tr>\n",
       "    <tr>\n",
       "      <th>2015-01-14</th>\n",
       "      <td>478</td>\n",
       "      <td>280</td>\n",
       "      <td>234</td>\n",
       "      <td>220</td>\n",
       "      <td>45</td>\n",
       "      <td>33</td>\n",
       "      <td>2</td>\n",
       "      <td>4</td>\n",
       "    </tr>\n",
       "    <tr>\n",
       "      <th>2015-01-15</th>\n",
       "      <td>490</td>\n",
       "      <td>245</td>\n",
       "      <td>233</td>\n",
       "      <td>202</td>\n",
       "      <td>35</td>\n",
       "      <td>39</td>\n",
       "      <td>1</td>\n",
       "      <td>6</td>\n",
       "    </tr>\n",
       "    <tr>\n",
       "      <th>2015-01-16</th>\n",
       "      <td>464</td>\n",
       "      <td>259</td>\n",
       "      <td>219</td>\n",
       "      <td>209</td>\n",
       "      <td>41</td>\n",
       "      <td>40</td>\n",
       "      <td>2</td>\n",
       "      <td>3</td>\n",
       "    </tr>\n",
       "    <tr>\n",
       "      <th>2015-01-17</th>\n",
       "      <td>467</td>\n",
       "      <td>252</td>\n",
       "      <td>241</td>\n",
       "      <td>201</td>\n",
       "      <td>38</td>\n",
       "      <td>39</td>\n",
       "      <td>2</td>\n",
       "      <td>3</td>\n",
       "    </tr>\n",
       "    <tr>\n",
       "      <th>2015-01-18</th>\n",
       "      <td>439</td>\n",
       "      <td>229</td>\n",
       "      <td>252</td>\n",
       "      <td>170</td>\n",
       "      <td>36</td>\n",
       "      <td>26</td>\n",
       "      <td>1</td>\n",
       "      <td>4</td>\n",
       "    </tr>\n",
       "    <tr>\n",
       "      <th>2015-01-19</th>\n",
       "      <td>520</td>\n",
       "      <td>268</td>\n",
       "      <td>254</td>\n",
       "      <td>209</td>\n",
       "      <td>55</td>\n",
       "      <td>50</td>\n",
       "      <td>2</td>\n",
       "      <td>8</td>\n",
       "    </tr>\n",
       "    <tr>\n",
       "      <th>2015-01-20</th>\n",
       "      <td>481</td>\n",
       "      <td>234</td>\n",
       "      <td>239</td>\n",
       "      <td>182</td>\n",
       "      <td>43</td>\n",
       "      <td>35</td>\n",
       "      <td>3</td>\n",
       "      <td>4</td>\n",
       "    </tr>\n",
       "    <tr>\n",
       "      <th>2015-01-21</th>\n",
       "      <td>500</td>\n",
       "      <td>260</td>\n",
       "      <td>238</td>\n",
       "      <td>207</td>\n",
       "      <td>43</td>\n",
       "      <td>44</td>\n",
       "      <td>4</td>\n",
       "      <td>3</td>\n",
       "    </tr>\n",
       "    <tr>\n",
       "      <th>2015-01-22</th>\n",
       "      <td>496</td>\n",
       "      <td>241</td>\n",
       "      <td>242</td>\n",
       "      <td>188</td>\n",
       "      <td>42</td>\n",
       "      <td>37</td>\n",
       "      <td>0</td>\n",
       "      <td>5</td>\n",
       "    </tr>\n",
       "    <tr>\n",
       "      <th>2015-01-23</th>\n",
       "      <td>503</td>\n",
       "      <td>217</td>\n",
       "      <td>253</td>\n",
       "      <td>176</td>\n",
       "      <td>45</td>\n",
       "      <td>34</td>\n",
       "      <td>4</td>\n",
       "      <td>5</td>\n",
       "    </tr>\n",
       "    <tr>\n",
       "      <th>2015-01-24</th>\n",
       "      <td>461</td>\n",
       "      <td>258</td>\n",
       "      <td>214</td>\n",
       "      <td>213</td>\n",
       "      <td>39</td>\n",
       "      <td>35</td>\n",
       "      <td>3</td>\n",
       "      <td>0</td>\n",
       "    </tr>\n",
       "    <tr>\n",
       "      <th>2015-01-25</th>\n",
       "      <td>519</td>\n",
       "      <td>263</td>\n",
       "      <td>265</td>\n",
       "      <td>208</td>\n",
       "      <td>46</td>\n",
       "      <td>48</td>\n",
       "      <td>3</td>\n",
       "      <td>5</td>\n",
       "    </tr>\n",
       "    <tr>\n",
       "      <th>2015-01-26</th>\n",
       "      <td>475</td>\n",
       "      <td>211</td>\n",
       "      <td>231</td>\n",
       "      <td>171</td>\n",
       "      <td>40</td>\n",
       "      <td>36</td>\n",
       "      <td>2</td>\n",
       "      <td>4</td>\n",
       "    </tr>\n",
       "    <tr>\n",
       "      <th>2015-01-27</th>\n",
       "      <td>493</td>\n",
       "      <td>268</td>\n",
       "      <td>243</td>\n",
       "      <td>210</td>\n",
       "      <td>28</td>\n",
       "      <td>49</td>\n",
       "      <td>0</td>\n",
       "      <td>4</td>\n",
       "    </tr>\n",
       "    <tr>\n",
       "      <th>2015-01-28</th>\n",
       "      <td>479</td>\n",
       "      <td>246</td>\n",
       "      <td>253</td>\n",
       "      <td>195</td>\n",
       "      <td>41</td>\n",
       "      <td>45</td>\n",
       "      <td>1</td>\n",
       "      <td>7</td>\n",
       "    </tr>\n",
       "    <tr>\n",
       "      <th>2015-01-29</th>\n",
       "      <td>522</td>\n",
       "      <td>237</td>\n",
       "      <td>271</td>\n",
       "      <td>200</td>\n",
       "      <td>48</td>\n",
       "      <td>31</td>\n",
       "      <td>4</td>\n",
       "      <td>1</td>\n",
       "    </tr>\n",
       "    <tr>\n",
       "      <th>2015-01-30</th>\n",
       "      <td>476</td>\n",
       "      <td>221</td>\n",
       "      <td>232</td>\n",
       "      <td>185</td>\n",
       "      <td>37</td>\n",
       "      <td>27</td>\n",
       "      <td>1</td>\n",
       "      <td>3</td>\n",
       "    </tr>\n",
       "    <tr>\n",
       "      <th>...</th>\n",
       "      <td>...</td>\n",
       "      <td>...</td>\n",
       "      <td>...</td>\n",
       "      <td>...</td>\n",
       "      <td>...</td>\n",
       "      <td>...</td>\n",
       "      <td>...</td>\n",
       "      <td>...</td>\n",
       "    </tr>\n",
       "    <tr>\n",
       "      <th>2015-04-01</th>\n",
       "      <td>516</td>\n",
       "      <td>253</td>\n",
       "      <td>233</td>\n",
       "      <td>52</td>\n",
       "      <td>16</td>\n",
       "      <td>11</td>\n",
       "      <td>0</td>\n",
       "      <td>2</td>\n",
       "    </tr>\n",
       "    <tr>\n",
       "      <th>2015-04-02</th>\n",
       "      <td>487</td>\n",
       "      <td>248</td>\n",
       "      <td>223</td>\n",
       "      <td>45</td>\n",
       "      <td>5</td>\n",
       "      <td>8</td>\n",
       "      <td>1</td>\n",
       "      <td>0</td>\n",
       "    </tr>\n",
       "    <tr>\n",
       "      <th>2015-04-03</th>\n",
       "      <td>522</td>\n",
       "      <td>260</td>\n",
       "      <td>251</td>\n",
       "      <td>54</td>\n",
       "      <td>11</td>\n",
       "      <td>9</td>\n",
       "      <td>1</td>\n",
       "      <td>2</td>\n",
       "    </tr>\n",
       "    <tr>\n",
       "      <th>2015-04-04</th>\n",
       "      <td>511</td>\n",
       "      <td>264</td>\n",
       "      <td>257</td>\n",
       "      <td>60</td>\n",
       "      <td>15</td>\n",
       "      <td>12</td>\n",
       "      <td>0</td>\n",
       "      <td>3</td>\n",
       "    </tr>\n",
       "    <tr>\n",
       "      <th>2015-04-05</th>\n",
       "      <td>490</td>\n",
       "      <td>232</td>\n",
       "      <td>246</td>\n",
       "      <td>49</td>\n",
       "      <td>9</td>\n",
       "      <td>11</td>\n",
       "      <td>2</td>\n",
       "      <td>1</td>\n",
       "    </tr>\n",
       "    <tr>\n",
       "      <th>2015-04-06</th>\n",
       "      <td>508</td>\n",
       "      <td>252</td>\n",
       "      <td>263</td>\n",
       "      <td>54</td>\n",
       "      <td>7</td>\n",
       "      <td>10</td>\n",
       "      <td>0</td>\n",
       "      <td>3</td>\n",
       "    </tr>\n",
       "    <tr>\n",
       "      <th>2015-04-07</th>\n",
       "      <td>493</td>\n",
       "      <td>276</td>\n",
       "      <td>244</td>\n",
       "      <td>57</td>\n",
       "      <td>10</td>\n",
       "      <td>14</td>\n",
       "      <td>2</td>\n",
       "      <td>0</td>\n",
       "    </tr>\n",
       "    <tr>\n",
       "      <th>2015-04-08</th>\n",
       "      <td>528</td>\n",
       "      <td>278</td>\n",
       "      <td>259</td>\n",
       "      <td>58</td>\n",
       "      <td>9</td>\n",
       "      <td>13</td>\n",
       "      <td>0</td>\n",
       "      <td>1</td>\n",
       "    </tr>\n",
       "    <tr>\n",
       "      <th>2015-04-09</th>\n",
       "      <td>487</td>\n",
       "      <td>250</td>\n",
       "      <td>241</td>\n",
       "      <td>50</td>\n",
       "      <td>7</td>\n",
       "      <td>15</td>\n",
       "      <td>4</td>\n",
       "      <td>1</td>\n",
       "    </tr>\n",
       "    <tr>\n",
       "      <th>2015-04-10</th>\n",
       "      <td>513</td>\n",
       "      <td>244</td>\n",
       "      <td>269</td>\n",
       "      <td>62</td>\n",
       "      <td>13</td>\n",
       "      <td>1</td>\n",
       "      <td>0</td>\n",
       "      <td>0</td>\n",
       "    </tr>\n",
       "    <tr>\n",
       "      <th>2015-04-11</th>\n",
       "      <td>498</td>\n",
       "      <td>247</td>\n",
       "      <td>238</td>\n",
       "      <td>57</td>\n",
       "      <td>8</td>\n",
       "      <td>9</td>\n",
       "      <td>1</td>\n",
       "      <td>0</td>\n",
       "    </tr>\n",
       "    <tr>\n",
       "      <th>2015-04-12</th>\n",
       "      <td>456</td>\n",
       "      <td>248</td>\n",
       "      <td>213</td>\n",
       "      <td>51</td>\n",
       "      <td>13</td>\n",
       "      <td>9</td>\n",
       "      <td>1</td>\n",
       "      <td>1</td>\n",
       "    </tr>\n",
       "    <tr>\n",
       "      <th>2015-04-13</th>\n",
       "      <td>485</td>\n",
       "      <td>247</td>\n",
       "      <td>264</td>\n",
       "      <td>49</td>\n",
       "      <td>10</td>\n",
       "      <td>17</td>\n",
       "      <td>0</td>\n",
       "      <td>1</td>\n",
       "    </tr>\n",
       "    <tr>\n",
       "      <th>2015-04-14</th>\n",
       "      <td>466</td>\n",
       "      <td>233</td>\n",
       "      <td>237</td>\n",
       "      <td>48</td>\n",
       "      <td>11</td>\n",
       "      <td>8</td>\n",
       "      <td>0</td>\n",
       "      <td>1</td>\n",
       "    </tr>\n",
       "    <tr>\n",
       "      <th>2015-04-15</th>\n",
       "      <td>518</td>\n",
       "      <td>257</td>\n",
       "      <td>274</td>\n",
       "      <td>52</td>\n",
       "      <td>16</td>\n",
       "      <td>8</td>\n",
       "      <td>0</td>\n",
       "      <td>1</td>\n",
       "    </tr>\n",
       "    <tr>\n",
       "      <th>2015-04-16</th>\n",
       "      <td>494</td>\n",
       "      <td>235</td>\n",
       "      <td>255</td>\n",
       "      <td>36</td>\n",
       "      <td>9</td>\n",
       "      <td>9</td>\n",
       "      <td>0</td>\n",
       "      <td>0</td>\n",
       "    </tr>\n",
       "    <tr>\n",
       "      <th>2015-04-17</th>\n",
       "      <td>509</td>\n",
       "      <td>247</td>\n",
       "      <td>270</td>\n",
       "      <td>41</td>\n",
       "      <td>11</td>\n",
       "      <td>10</td>\n",
       "      <td>1</td>\n",
       "      <td>0</td>\n",
       "    </tr>\n",
       "    <tr>\n",
       "      <th>2015-04-18</th>\n",
       "      <td>516</td>\n",
       "      <td>223</td>\n",
       "      <td>248</td>\n",
       "      <td>38</td>\n",
       "      <td>8</td>\n",
       "      <td>3</td>\n",
       "      <td>0</td>\n",
       "      <td>0</td>\n",
       "    </tr>\n",
       "    <tr>\n",
       "      <th>2015-04-19</th>\n",
       "      <td>507</td>\n",
       "      <td>276</td>\n",
       "      <td>263</td>\n",
       "      <td>52</td>\n",
       "      <td>8</td>\n",
       "      <td>5</td>\n",
       "      <td>1</td>\n",
       "      <td>0</td>\n",
       "    </tr>\n",
       "    <tr>\n",
       "      <th>2015-04-20</th>\n",
       "      <td>483</td>\n",
       "      <td>237</td>\n",
       "      <td>270</td>\n",
       "      <td>45</td>\n",
       "      <td>10</td>\n",
       "      <td>11</td>\n",
       "      <td>2</td>\n",
       "      <td>0</td>\n",
       "    </tr>\n",
       "    <tr>\n",
       "      <th>2015-04-21</th>\n",
       "      <td>521</td>\n",
       "      <td>233</td>\n",
       "      <td>240</td>\n",
       "      <td>47</td>\n",
       "      <td>13</td>\n",
       "      <td>7</td>\n",
       "      <td>2</td>\n",
       "      <td>1</td>\n",
       "    </tr>\n",
       "    <tr>\n",
       "      <th>2015-04-22</th>\n",
       "      <td>512</td>\n",
       "      <td>238</td>\n",
       "      <td>272</td>\n",
       "      <td>54</td>\n",
       "      <td>8</td>\n",
       "      <td>11</td>\n",
       "      <td>0</td>\n",
       "      <td>2</td>\n",
       "    </tr>\n",
       "    <tr>\n",
       "      <th>2015-04-23</th>\n",
       "      <td>523</td>\n",
       "      <td>230</td>\n",
       "      <td>263</td>\n",
       "      <td>47</td>\n",
       "      <td>12</td>\n",
       "      <td>5</td>\n",
       "      <td>1</td>\n",
       "      <td>0</td>\n",
       "    </tr>\n",
       "    <tr>\n",
       "      <th>2015-04-24</th>\n",
       "      <td>483</td>\n",
       "      <td>279</td>\n",
       "      <td>239</td>\n",
       "      <td>44</td>\n",
       "      <td>4</td>\n",
       "      <td>7</td>\n",
       "      <td>1</td>\n",
       "      <td>1</td>\n",
       "    </tr>\n",
       "    <tr>\n",
       "      <th>2015-04-25</th>\n",
       "      <td>519</td>\n",
       "      <td>247</td>\n",
       "      <td>279</td>\n",
       "      <td>45</td>\n",
       "      <td>13</td>\n",
       "      <td>11</td>\n",
       "      <td>1</td>\n",
       "      <td>0</td>\n",
       "    </tr>\n",
       "    <tr>\n",
       "      <th>2015-04-26</th>\n",
       "      <td>529</td>\n",
       "      <td>263</td>\n",
       "      <td>259</td>\n",
       "      <td>48</td>\n",
       "      <td>13</td>\n",
       "      <td>12</td>\n",
       "      <td>1</td>\n",
       "      <td>0</td>\n",
       "    </tr>\n",
       "    <tr>\n",
       "      <th>2015-04-27</th>\n",
       "      <td>509</td>\n",
       "      <td>270</td>\n",
       "      <td>256</td>\n",
       "      <td>55</td>\n",
       "      <td>10</td>\n",
       "      <td>16</td>\n",
       "      <td>0</td>\n",
       "      <td>1</td>\n",
       "    </tr>\n",
       "    <tr>\n",
       "      <th>2015-04-28</th>\n",
       "      <td>476</td>\n",
       "      <td>260</td>\n",
       "      <td>250</td>\n",
       "      <td>54</td>\n",
       "      <td>9</td>\n",
       "      <td>16</td>\n",
       "      <td>0</td>\n",
       "      <td>1</td>\n",
       "    </tr>\n",
       "    <tr>\n",
       "      <th>2015-04-29</th>\n",
       "      <td>453</td>\n",
       "      <td>260</td>\n",
       "      <td>219</td>\n",
       "      <td>52</td>\n",
       "      <td>4</td>\n",
       "      <td>6</td>\n",
       "      <td>0</td>\n",
       "      <td>0</td>\n",
       "    </tr>\n",
       "    <tr>\n",
       "      <th>2015-04-30</th>\n",
       "      <td>538</td>\n",
       "      <td>263</td>\n",
       "      <td>274</td>\n",
       "      <td>55</td>\n",
       "      <td>10</td>\n",
       "      <td>11</td>\n",
       "      <td>0</td>\n",
       "      <td>1</td>\n",
       "    </tr>\n",
       "  </tbody>\n",
       "</table>\n",
       "<p>120 rows × 8 columns</p>\n",
       "</div>"
      ],
      "text/plain": [
       "           home_page        search_page        payment_page        confirmation_page       \n",
       "device       Desktop Mobile     Desktop Mobile      Desktop Mobile           Desktop Mobile\n",
       "date                                                                                       \n",
       "2015-01-01       493    219         256    180           47     29                 1      5\n",
       "2015-01-02       484    237         261    186           44     40                 1      4\n",
       "2015-01-03       507    253         222    200           22     42                 3      4\n",
       "2015-01-04       474    239         249    198           38     38                 1      6\n",
       "2015-01-05       483    271         249    213           37     51                 3      8\n",
       "2015-01-06       491    251         247    198           34     33                 1      8\n",
       "2015-01-07       489    205         243    161           27     28                 2      2\n",
       "2015-01-08       479    235         216    193           31     33                 2      3\n",
       "2015-01-09       470    243         218    188           37     39                 1      3\n",
       "2015-01-10       479    251         258    191           44     33                 3      4\n",
       "2015-01-11       487    253         253    193           34     45                 2      5\n",
       "2015-01-12       499    242         255    193           42     33                 2      4\n",
       "2015-01-13       484    209         249    172           37     39                 1      0\n",
       "2015-01-14       478    280         234    220           45     33                 2      4\n",
       "2015-01-15       490    245         233    202           35     39                 1      6\n",
       "2015-01-16       464    259         219    209           41     40                 2      3\n",
       "2015-01-17       467    252         241    201           38     39                 2      3\n",
       "2015-01-18       439    229         252    170           36     26                 1      4\n",
       "2015-01-19       520    268         254    209           55     50                 2      8\n",
       "2015-01-20       481    234         239    182           43     35                 3      4\n",
       "2015-01-21       500    260         238    207           43     44                 4      3\n",
       "2015-01-22       496    241         242    188           42     37                 0      5\n",
       "2015-01-23       503    217         253    176           45     34                 4      5\n",
       "2015-01-24       461    258         214    213           39     35                 3      0\n",
       "2015-01-25       519    263         265    208           46     48                 3      5\n",
       "2015-01-26       475    211         231    171           40     36                 2      4\n",
       "2015-01-27       493    268         243    210           28     49                 0      4\n",
       "2015-01-28       479    246         253    195           41     45                 1      7\n",
       "2015-01-29       522    237         271    200           48     31                 4      1\n",
       "2015-01-30       476    221         232    185           37     27                 1      3\n",
       "...              ...    ...         ...    ...          ...    ...               ...    ...\n",
       "2015-04-01       516    253         233     52           16     11                 0      2\n",
       "2015-04-02       487    248         223     45            5      8                 1      0\n",
       "2015-04-03       522    260         251     54           11      9                 1      2\n",
       "2015-04-04       511    264         257     60           15     12                 0      3\n",
       "2015-04-05       490    232         246     49            9     11                 2      1\n",
       "2015-04-06       508    252         263     54            7     10                 0      3\n",
       "2015-04-07       493    276         244     57           10     14                 2      0\n",
       "2015-04-08       528    278         259     58            9     13                 0      1\n",
       "2015-04-09       487    250         241     50            7     15                 4      1\n",
       "2015-04-10       513    244         269     62           13      1                 0      0\n",
       "2015-04-11       498    247         238     57            8      9                 1      0\n",
       "2015-04-12       456    248         213     51           13      9                 1      1\n",
       "2015-04-13       485    247         264     49           10     17                 0      1\n",
       "2015-04-14       466    233         237     48           11      8                 0      1\n",
       "2015-04-15       518    257         274     52           16      8                 0      1\n",
       "2015-04-16       494    235         255     36            9      9                 0      0\n",
       "2015-04-17       509    247         270     41           11     10                 1      0\n",
       "2015-04-18       516    223         248     38            8      3                 0      0\n",
       "2015-04-19       507    276         263     52            8      5                 1      0\n",
       "2015-04-20       483    237         270     45           10     11                 2      0\n",
       "2015-04-21       521    233         240     47           13      7                 2      1\n",
       "2015-04-22       512    238         272     54            8     11                 0      2\n",
       "2015-04-23       523    230         263     47           12      5                 1      0\n",
       "2015-04-24       483    279         239     44            4      7                 1      1\n",
       "2015-04-25       519    247         279     45           13     11                 1      0\n",
       "2015-04-26       529    263         259     48           13     12                 1      0\n",
       "2015-04-27       509    270         256     55           10     16                 0      1\n",
       "2015-04-28       476    260         250     54            9     16                 0      1\n",
       "2015-04-29       453    260         219     52            4      6                 0      0\n",
       "2015-04-30       538    263         274     55           10     11                 0      1\n",
       "\n",
       "[120 rows x 8 columns]"
      ]
     },
     "execution_count": 66,
     "metadata": {},
     "output_type": "execute_result"
    }
   ],
   "source": [
    "data_deviceUnstack"
   ]
  },
  {
   "cell_type": "markdown",
   "metadata": {},
   "source": [
    "## impact of some factors"
   ]
  },
  {
   "cell_type": "code",
   "execution_count": 67,
   "metadata": {},
   "outputs": [
    {
     "data": {
      "text/html": [
       "<div>\n",
       "<style scoped>\n",
       "    .dataframe tbody tr th:only-of-type {\n",
       "        vertical-align: middle;\n",
       "    }\n",
       "\n",
       "    .dataframe tbody tr th {\n",
       "        vertical-align: top;\n",
       "    }\n",
       "\n",
       "    .dataframe thead th {\n",
       "        text-align: right;\n",
       "    }\n",
       "</style>\n",
       "<table border=\"1\" class=\"dataframe\">\n",
       "  <thead>\n",
       "    <tr style=\"text-align: right;\">\n",
       "      <th></th>\n",
       "      <th>user_id</th>\n",
       "      <th>date</th>\n",
       "      <th>device</th>\n",
       "      <th>sex</th>\n",
       "      <th>home_page</th>\n",
       "      <th>search_page</th>\n",
       "      <th>payment_page</th>\n",
       "      <th>confirmation_page</th>\n",
       "    </tr>\n",
       "  </thead>\n",
       "  <tbody>\n",
       "    <tr>\n",
       "      <th>0</th>\n",
       "      <td>450007</td>\n",
       "      <td>2015-02-28</td>\n",
       "      <td>Desktop</td>\n",
       "      <td>Female</td>\n",
       "      <td>home_page</td>\n",
       "      <td>NaN</td>\n",
       "      <td>NaN</td>\n",
       "      <td>NaN</td>\n",
       "    </tr>\n",
       "    <tr>\n",
       "      <th>1</th>\n",
       "      <td>756838</td>\n",
       "      <td>2015-01-13</td>\n",
       "      <td>Desktop</td>\n",
       "      <td>Male</td>\n",
       "      <td>home_page</td>\n",
       "      <td>NaN</td>\n",
       "      <td>NaN</td>\n",
       "      <td>NaN</td>\n",
       "    </tr>\n",
       "    <tr>\n",
       "      <th>2</th>\n",
       "      <td>568983</td>\n",
       "      <td>2015-04-09</td>\n",
       "      <td>Desktop</td>\n",
       "      <td>Male</td>\n",
       "      <td>home_page</td>\n",
       "      <td>search_page</td>\n",
       "      <td>NaN</td>\n",
       "      <td>NaN</td>\n",
       "    </tr>\n",
       "    <tr>\n",
       "      <th>3</th>\n",
       "      <td>190794</td>\n",
       "      <td>2015-02-18</td>\n",
       "      <td>Desktop</td>\n",
       "      <td>Female</td>\n",
       "      <td>home_page</td>\n",
       "      <td>search_page</td>\n",
       "      <td>NaN</td>\n",
       "      <td>NaN</td>\n",
       "    </tr>\n",
       "    <tr>\n",
       "      <th>4</th>\n",
       "      <td>537909</td>\n",
       "      <td>2015-01-15</td>\n",
       "      <td>Desktop</td>\n",
       "      <td>Male</td>\n",
       "      <td>home_page</td>\n",
       "      <td>NaN</td>\n",
       "      <td>NaN</td>\n",
       "      <td>NaN</td>\n",
       "    </tr>\n",
       "  </tbody>\n",
       "</table>\n",
       "</div>"
      ],
      "text/plain": [
       "   user_id       date   device     sex  home_page  search_page payment_page confirmation_page\n",
       "0   450007 2015-02-28  Desktop  Female  home_page          NaN          NaN               NaN\n",
       "1   756838 2015-01-13  Desktop    Male  home_page          NaN          NaN               NaN\n",
       "2   568983 2015-04-09  Desktop    Male  home_page  search_page          NaN               NaN\n",
       "3   190794 2015-02-18  Desktop  Female  home_page  search_page          NaN               NaN\n",
       "4   537909 2015-01-15  Desktop    Male  home_page          NaN          NaN               NaN"
      ]
     },
     "execution_count": 67,
     "metadata": {},
     "output_type": "execute_result"
    }
   ],
   "source": [
    "data_join.head()"
   ]
  },
  {
   "cell_type": "code",
   "execution_count": 68,
   "metadata": {},
   "outputs": [],
   "source": [
    "data_join['dayofweek'] = data_join['date'].dt.dayofweek\n",
    "data_join['monthofyear'] = data_join['date'].dt.month\n",
    "data_join['confirmation_yn'] = data_join['confirmation_page'].isnull().apply(lambda x: 1 if not x else 0)"
   ]
  },
  {
   "cell_type": "code",
   "execution_count": 69,
   "metadata": {},
   "outputs": [
    {
     "data": {
      "text/html": [
       "<div>\n",
       "<style scoped>\n",
       "    .dataframe tbody tr th:only-of-type {\n",
       "        vertical-align: middle;\n",
       "    }\n",
       "\n",
       "    .dataframe tbody tr th {\n",
       "        vertical-align: top;\n",
       "    }\n",
       "\n",
       "    .dataframe thead th {\n",
       "        text-align: right;\n",
       "    }\n",
       "</style>\n",
       "<table border=\"1\" class=\"dataframe\">\n",
       "  <thead>\n",
       "    <tr style=\"text-align: right;\">\n",
       "      <th></th>\n",
       "      <th>user_id</th>\n",
       "      <th>date</th>\n",
       "      <th>device</th>\n",
       "      <th>sex</th>\n",
       "      <th>home_page</th>\n",
       "      <th>search_page</th>\n",
       "      <th>payment_page</th>\n",
       "      <th>confirmation_page</th>\n",
       "      <th>dayofweek</th>\n",
       "      <th>monthofyear</th>\n",
       "      <th>confirmation_yn</th>\n",
       "    </tr>\n",
       "  </thead>\n",
       "  <tbody>\n",
       "    <tr>\n",
       "      <th>0</th>\n",
       "      <td>450007</td>\n",
       "      <td>2015-02-28</td>\n",
       "      <td>Desktop</td>\n",
       "      <td>Female</td>\n",
       "      <td>home_page</td>\n",
       "      <td>NaN</td>\n",
       "      <td>NaN</td>\n",
       "      <td>NaN</td>\n",
       "      <td>5</td>\n",
       "      <td>2</td>\n",
       "      <td>0</td>\n",
       "    </tr>\n",
       "    <tr>\n",
       "      <th>1</th>\n",
       "      <td>756838</td>\n",
       "      <td>2015-01-13</td>\n",
       "      <td>Desktop</td>\n",
       "      <td>Male</td>\n",
       "      <td>home_page</td>\n",
       "      <td>NaN</td>\n",
       "      <td>NaN</td>\n",
       "      <td>NaN</td>\n",
       "      <td>1</td>\n",
       "      <td>1</td>\n",
       "      <td>0</td>\n",
       "    </tr>\n",
       "    <tr>\n",
       "      <th>2</th>\n",
       "      <td>568983</td>\n",
       "      <td>2015-04-09</td>\n",
       "      <td>Desktop</td>\n",
       "      <td>Male</td>\n",
       "      <td>home_page</td>\n",
       "      <td>search_page</td>\n",
       "      <td>NaN</td>\n",
       "      <td>NaN</td>\n",
       "      <td>3</td>\n",
       "      <td>4</td>\n",
       "      <td>0</td>\n",
       "    </tr>\n",
       "    <tr>\n",
       "      <th>3</th>\n",
       "      <td>190794</td>\n",
       "      <td>2015-02-18</td>\n",
       "      <td>Desktop</td>\n",
       "      <td>Female</td>\n",
       "      <td>home_page</td>\n",
       "      <td>search_page</td>\n",
       "      <td>NaN</td>\n",
       "      <td>NaN</td>\n",
       "      <td>2</td>\n",
       "      <td>2</td>\n",
       "      <td>0</td>\n",
       "    </tr>\n",
       "    <tr>\n",
       "      <th>4</th>\n",
       "      <td>537909</td>\n",
       "      <td>2015-01-15</td>\n",
       "      <td>Desktop</td>\n",
       "      <td>Male</td>\n",
       "      <td>home_page</td>\n",
       "      <td>NaN</td>\n",
       "      <td>NaN</td>\n",
       "      <td>NaN</td>\n",
       "      <td>3</td>\n",
       "      <td>1</td>\n",
       "      <td>0</td>\n",
       "    </tr>\n",
       "  </tbody>\n",
       "</table>\n",
       "</div>"
      ],
      "text/plain": [
       "   user_id       date   device     sex  home_page  search_page payment_page confirmation_page  dayofweek  monthofyear  confirmation_yn\n",
       "0   450007 2015-02-28  Desktop  Female  home_page          NaN          NaN               NaN          5            2                0\n",
       "1   756838 2015-01-13  Desktop    Male  home_page          NaN          NaN               NaN          1            1                0\n",
       "2   568983 2015-04-09  Desktop    Male  home_page  search_page          NaN               NaN          3            4                0\n",
       "3   190794 2015-02-18  Desktop  Female  home_page  search_page          NaN               NaN          2            2                0\n",
       "4   537909 2015-01-15  Desktop    Male  home_page          NaN          NaN               NaN          3            1                0"
      ]
     },
     "execution_count": 69,
     "metadata": {},
     "output_type": "execute_result"
    }
   ],
   "source": [
    "data_join.head()"
   ]
  },
  {
   "cell_type": "markdown",
   "metadata": {},
   "source": [
    "## impact of 'device'"
   ]
  },
  {
   "cell_type": "code",
   "execution_count": 73,
   "metadata": {},
   "outputs": [
    {
     "data": {
      "text/html": [
       "<div>\n",
       "<style scoped>\n",
       "    .dataframe tbody tr th:only-of-type {\n",
       "        vertical-align: middle;\n",
       "    }\n",
       "\n",
       "    .dataframe tbody tr th {\n",
       "        vertical-align: top;\n",
       "    }\n",
       "\n",
       "    .dataframe thead th {\n",
       "        text-align: right;\n",
       "    }\n",
       "</style>\n",
       "<table border=\"1\" class=\"dataframe\">\n",
       "  <thead>\n",
       "    <tr style=\"text-align: right;\">\n",
       "      <th></th>\n",
       "      <th>sum</th>\n",
       "      <th>count</th>\n",
       "      <th>mean</th>\n",
       "    </tr>\n",
       "    <tr>\n",
       "      <th>device</th>\n",
       "      <th></th>\n",
       "      <th></th>\n",
       "      <th></th>\n",
       "    </tr>\n",
       "  </thead>\n",
       "  <tbody>\n",
       "    <tr>\n",
       "      <th>Mobile</th>\n",
       "      <td>302</td>\n",
       "      <td>30200</td>\n",
       "      <td>0.010000</td>\n",
       "    </tr>\n",
       "    <tr>\n",
       "      <th>Desktop</th>\n",
       "      <td>150</td>\n",
       "      <td>60200</td>\n",
       "      <td>0.002492</td>\n",
       "    </tr>\n",
       "  </tbody>\n",
       "</table>\n",
       "</div>"
      ],
      "text/plain": [
       "         sum  count      mean\n",
       "device                       \n",
       "Mobile   302  30200  0.010000\n",
       "Desktop  150  60200  0.002492"
      ]
     },
     "execution_count": 73,
     "metadata": {},
     "output_type": "execute_result"
    }
   ],
   "source": [
    "data_join.groupby(['device'])['confirmation_yn'].agg(['sum', 'count', 'mean']).sort_values(by=['mean'], ascending=False)"
   ]
  },
  {
   "cell_type": "markdown",
   "metadata": {},
   "source": [
    "__Mobile users__ are more likely to finish transactions.  \n",
    "__Why ?__"
   ]
  },
  {
   "cell_type": "markdown",
   "metadata": {},
   "source": [
    "## impact of 'day of week'"
   ]
  },
  {
   "cell_type": "code",
   "execution_count": 70,
   "metadata": {},
   "outputs": [
    {
     "data": {
      "text/html": [
       "<div>\n",
       "<style scoped>\n",
       "    .dataframe tbody tr th:only-of-type {\n",
       "        vertical-align: middle;\n",
       "    }\n",
       "\n",
       "    .dataframe tbody tr th {\n",
       "        vertical-align: top;\n",
       "    }\n",
       "\n",
       "    .dataframe thead th {\n",
       "        text-align: right;\n",
       "    }\n",
       "</style>\n",
       "<table border=\"1\" class=\"dataframe\">\n",
       "  <thead>\n",
       "    <tr style=\"text-align: right;\">\n",
       "      <th></th>\n",
       "      <th>sum</th>\n",
       "      <th>count</th>\n",
       "      <th>mean</th>\n",
       "    </tr>\n",
       "    <tr>\n",
       "      <th>dayofweek</th>\n",
       "      <th></th>\n",
       "      <th></th>\n",
       "      <th></th>\n",
       "    </tr>\n",
       "  </thead>\n",
       "  <tbody>\n",
       "    <tr>\n",
       "      <th>0</th>\n",
       "      <td>77</td>\n",
       "      <td>12955</td>\n",
       "      <td>0.005944</td>\n",
       "    </tr>\n",
       "    <tr>\n",
       "      <th>5</th>\n",
       "      <td>70</td>\n",
       "      <td>12801</td>\n",
       "      <td>0.005468</td>\n",
       "    </tr>\n",
       "    <tr>\n",
       "      <th>1</th>\n",
       "      <td>69</td>\n",
       "      <td>12697</td>\n",
       "      <td>0.005434</td>\n",
       "    </tr>\n",
       "    <tr>\n",
       "      <th>3</th>\n",
       "      <td>66</td>\n",
       "      <td>13444</td>\n",
       "      <td>0.004909</td>\n",
       "    </tr>\n",
       "    <tr>\n",
       "      <th>6</th>\n",
       "      <td>62</td>\n",
       "      <td>12922</td>\n",
       "      <td>0.004798</td>\n",
       "    </tr>\n",
       "    <tr>\n",
       "      <th>4</th>\n",
       "      <td>54</td>\n",
       "      <td>12750</td>\n",
       "      <td>0.004235</td>\n",
       "    </tr>\n",
       "    <tr>\n",
       "      <th>2</th>\n",
       "      <td>54</td>\n",
       "      <td>12831</td>\n",
       "      <td>0.004209</td>\n",
       "    </tr>\n",
       "  </tbody>\n",
       "</table>\n",
       "</div>"
      ],
      "text/plain": [
       "           sum  count      mean\n",
       "dayofweek                      \n",
       "0           77  12955  0.005944\n",
       "5           70  12801  0.005468\n",
       "1           69  12697  0.005434\n",
       "3           66  13444  0.004909\n",
       "6           62  12922  0.004798\n",
       "4           54  12750  0.004235\n",
       "2           54  12831  0.004209"
      ]
     },
     "execution_count": 70,
     "metadata": {},
     "output_type": "execute_result"
    }
   ],
   "source": [
    "data_join.groupby(['dayofweek'])['confirmation_yn'].agg(['sum', 'count', 'mean']).sort_values(by=['mean'], ascending=False)"
   ]
  },
  {
   "cell_type": "markdown",
   "metadata": {},
   "source": [
    "__Monday__, __Saturday__, and __Tuesday__ have conversion rate larger than 0.005."
   ]
  },
  {
   "cell_type": "markdown",
   "metadata": {},
   "source": [
    "## impact of sex"
   ]
  },
  {
   "cell_type": "code",
   "execution_count": 71,
   "metadata": {},
   "outputs": [
    {
     "data": {
      "text/html": [
       "<div>\n",
       "<style scoped>\n",
       "    .dataframe tbody tr th:only-of-type {\n",
       "        vertical-align: middle;\n",
       "    }\n",
       "\n",
       "    .dataframe tbody tr th {\n",
       "        vertical-align: top;\n",
       "    }\n",
       "\n",
       "    .dataframe thead th {\n",
       "        text-align: right;\n",
       "    }\n",
       "</style>\n",
       "<table border=\"1\" class=\"dataframe\">\n",
       "  <thead>\n",
       "    <tr style=\"text-align: right;\">\n",
       "      <th></th>\n",
       "      <th>sum</th>\n",
       "      <th>count</th>\n",
       "      <th>mean</th>\n",
       "    </tr>\n",
       "    <tr>\n",
       "      <th>sex</th>\n",
       "      <th></th>\n",
       "      <th></th>\n",
       "      <th></th>\n",
       "    </tr>\n",
       "  </thead>\n",
       "  <tbody>\n",
       "    <tr>\n",
       "      <th>Female</th>\n",
       "      <td>241</td>\n",
       "      <td>45075</td>\n",
       "      <td>0.005347</td>\n",
       "    </tr>\n",
       "    <tr>\n",
       "      <th>Male</th>\n",
       "      <td>211</td>\n",
       "      <td>45325</td>\n",
       "      <td>0.004655</td>\n",
       "    </tr>\n",
       "  </tbody>\n",
       "</table>\n",
       "</div>"
      ],
      "text/plain": [
       "        sum  count      mean\n",
       "sex                         \n",
       "Female  241  45075  0.005347\n",
       "Male    211  45325  0.004655"
      ]
     },
     "execution_count": 71,
     "metadata": {},
     "output_type": "execute_result"
    }
   ],
   "source": [
    "data_join.groupby(['sex'])['confirmation_yn'].agg(['sum', 'count', 'mean']).sort_values(by=['mean'], ascending=False)"
   ]
  },
  {
   "cell_type": "markdown",
   "metadata": {},
   "source": [
    "Females have a slightly higher conversion rate."
   ]
  },
  {
   "cell_type": "markdown",
   "metadata": {},
   "source": [
    "## impact of 'month of year'"
   ]
  },
  {
   "cell_type": "code",
   "execution_count": 72,
   "metadata": {},
   "outputs": [
    {
     "data": {
      "text/html": [
       "<div>\n",
       "<style scoped>\n",
       "    .dataframe tbody tr th:only-of-type {\n",
       "        vertical-align: middle;\n",
       "    }\n",
       "\n",
       "    .dataframe tbody tr th {\n",
       "        vertical-align: top;\n",
       "    }\n",
       "\n",
       "    .dataframe thead th {\n",
       "        text-align: right;\n",
       "    }\n",
       "</style>\n",
       "<table border=\"1\" class=\"dataframe\">\n",
       "  <thead>\n",
       "    <tr style=\"text-align: right;\">\n",
       "      <th></th>\n",
       "      <th>sum</th>\n",
       "      <th>count</th>\n",
       "      <th>mean</th>\n",
       "    </tr>\n",
       "    <tr>\n",
       "      <th>monthofyear</th>\n",
       "      <th></th>\n",
       "      <th></th>\n",
       "      <th></th>\n",
       "    </tr>\n",
       "  </thead>\n",
       "  <tbody>\n",
       "    <tr>\n",
       "      <th>1</th>\n",
       "      <td>189</td>\n",
       "      <td>22600</td>\n",
       "      <td>0.008363</td>\n",
       "    </tr>\n",
       "    <tr>\n",
       "      <th>2</th>\n",
       "      <td>173</td>\n",
       "      <td>22600</td>\n",
       "      <td>0.007655</td>\n",
       "    </tr>\n",
       "    <tr>\n",
       "      <th>4</th>\n",
       "      <td>46</td>\n",
       "      <td>22600</td>\n",
       "      <td>0.002035</td>\n",
       "    </tr>\n",
       "    <tr>\n",
       "      <th>3</th>\n",
       "      <td>44</td>\n",
       "      <td>22600</td>\n",
       "      <td>0.001947</td>\n",
       "    </tr>\n",
       "  </tbody>\n",
       "</table>\n",
       "</div>"
      ],
      "text/plain": [
       "             sum  count      mean\n",
       "monthofyear                      \n",
       "1            189  22600  0.008363\n",
       "2            173  22600  0.007655\n",
       "4             46  22600  0.002035\n",
       "3             44  22600  0.001947"
      ]
     },
     "execution_count": 72,
     "metadata": {},
     "output_type": "execute_result"
    }
   ],
   "source": [
    "data_join.groupby(['monthofyear'])['confirmation_yn'].agg(['sum', 'count', 'mean']).sort_values(by=['mean'], ascending=False)"
   ]
  },
  {
   "cell_type": "markdown",
   "metadata": {},
   "source": [
    "Jan. and Feb. have higher conversion rates which are almost four times of the Mar. and Apr.'s values."
   ]
  },
  {
   "cell_type": "markdown",
   "metadata": {},
   "source": [
    "## Summary & Conclusion"
   ]
  },
  {
   "cell_type": "markdown",
   "metadata": {},
   "source": [
    "### A full picture of funnel conversion rate\n",
    "conversion rate for desktop: ~0.010  \n",
    "conversion rate for mobile: ~0.0025  \n",
    "\n",
    "the funnel structures is similar between the desktop and mobile users. Around 50% of users drop from home to search page. Then around 90% of users drop from search to payment page and from payment to confirmation page.  \n",
    "\n",
    "#### Suggestion from above observation:\n",
    "+ from home to search page: is it because the website doesn't match users interestes? Or is the design not that attracting to make one the search for sth? Or should the website have some advertisements to let users know sth?\n",
    "+ from search to payment page: the search result doesn't match users' interests. If that's true, the company can consider use personalized reconmmendation.\n",
    "+ from payment to confirmation page: Security problem or UI design?\n",
    "\n",
    "One can test some ideas using A/B test.\n",
    "\n",
    "\n",
    "### check the drop\n",
    "The number change of daily users visiting the home page in the dataset is around 50. However, the number change for the users from the search page to the payment page is around 150, a much larger number. \n",
    "\n",
    "Is there a problem? Possible situations:\n",
    "+ there is a bug on the site\n",
    "+ there is a bug in the code that logs user behaviors and stores it into some table in database.\n",
    "+ there is a problem with the query\n",
    "\n",
    "### other factors\n",
    "sex:  \n",
    "__Females__ have a slightly higher conversion rate.  \n",
    "day of a week:  \n",
    "__Monday__, __Saturday__, and __Tuesday__ have conversion rate larger than 0.005.  \n",
    "month of a year:  \n",
    "__Jan. and Feb.__ have higher conversion rates which are almost four times of the Mar. and Apr.'s values.  \n",
    "device:  \n",
    "__Mobile users__ are more likely to finish transactions.  \n",
    "\n",
    "According to the above analysis, one can:  \n",
    "+ recommend new products to females, and recommend more personalized ads to males\n",
    "+ have some shopping activity on Monday or Saturday.\n",
    "+ check the detailed reason for the higher conversion rates during Jan. and Feb..\n",
    "+ improve desktop website user experience"
   ]
  },
  {
   "cell_type": "code",
   "execution_count": null,
   "metadata": {},
   "outputs": [],
   "source": []
  }
 ],
 "metadata": {
  "kernelspec": {
   "display_name": "Python 3",
   "language": "python",
   "name": "python3"
  },
  "language_info": {
   "codemirror_mode": {
    "name": "ipython",
    "version": 3
   },
   "file_extension": ".py",
   "mimetype": "text/x-python",
   "name": "python",
   "nbconvert_exporter": "python",
   "pygments_lexer": "ipython3",
   "version": "3.6.5"
  }
 },
 "nbformat": 4,
 "nbformat_minor": 2
}
