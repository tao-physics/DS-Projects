{
 "cells": [
  {
   "cell_type": "markdown",
   "metadata": {},
   "source": [
    "# Metrics_Hotel_Search_Data\n",
    "\n",
    "The goal of this project is to parse a sequence of URLs about user searches and extract some basic info out of it.\n",
    "\n",
    "### Challenge Description \n",
    "\n",
    "Company XYZ is a Online Travel Agent site, such as Expedia, Booking.com, etc.\n",
    "\n",
    "They haven’t invested in data science yet and all the data they have about user searches are simply stored in the URLs the users generate when they search for a hotel. If you are not familiar with URLs, you can run a search on any OTA site and see how all search parameters are always present in the URL.\n",
    "\n",
    "You are asked to: \n",
    "+ Create a clean data set where each column is a ﬁeld in the URL, each row is a given search and the cells are the corresponding URL values. \n",
    "\n",
    "+ For each search query, how many amenities were selected? \n",
    "\n",
    "+ Often, to measure the quality of a search algorithm, data scientists use some metric based on how often users click on the second page, third page, and so on. The idea here is that a great search algorithm should return all interesting results on the ﬁrst page and never force users to visit the other pages (how often do you click on the second page results when you search on Google? Almost never, right?). __Create a metric based on the above idea and ﬁnd the city with the worst search algorithm.__\n"
   ]
  },
  {
   "cell_type": "code",
   "execution_count": 1,
   "metadata": {},
   "outputs": [],
   "source": [
    "import pandas as pd\n",
    "import numpy as np\n",
    "\n",
    "import matplotlib.pyplot as plt\n",
    "%matplotlib inline\n",
    "\n",
    "import os\n",
    "import re\n",
    "\n",
    "# os.getcwd()\n",
    "# os.listdir()"
   ]
  },
  {
   "cell_type": "code",
   "execution_count": 2,
   "metadata": {},
   "outputs": [],
   "source": [
    "# os.listdir('.\\\\Data')"
   ]
  },
  {
   "cell_type": "markdown",
   "metadata": {},
   "source": [
    "## Import data file: url_list.txt"
   ]
  },
  {
   "cell_type": "code",
   "execution_count": 3,
   "metadata": {},
   "outputs": [
    {
     "name": "stdout",
     "output_type": "stream",
     "text": [
      "http://www.mysearchforhotels.com/shop/hotelsearch?hotel.checkin=2015-09-19&hotel.stars_4=yes&hotel.min_score=4&hotel.adults=3&hotel.city=New+York,+NY,+United+States&hotel.checkout=2015-09-20&hotel.search_page=1\n",
      "\n",
      "http://www.mysearchforhotels.com/shop/hotelsearch?hotel.checkin=2015-09-14&hotel.stars_3=yes&hotel.min_score=4&hotel.adults=3&hotel.city=London,+United+Kingdom&hotel.checkout=2015-09-15&hotel.search_page=1\n",
      "\n",
      "http://www.mysearchforhotels.com/shop/hotelsearch?hotel.checkin=2015-09-26&hotel.customMaximumPriceFilter=175&hotel.stars_4=yes&hotel.min_score=5&hotel.adults=2&hotel.city=New+York,+NY,+United+States&hotel.checkout=2015-09-27&hotel.search_page=1\n",
      "\n",
      "http://www.mysearchforhotels.com/shop/hotelsearch?hotel.checkin=2015-09-02&hotel.stars_5=yes&hotel.stars_4=yes&hotel.min_score=4&hotel.adults=1&hotel.city=Hong+Kong,+Hong+Kong&hotel.checkout=2015-09-03&hotel.search_page=1\n",
      "\n",
      "http://www.mysearchforhotels.com/shop/hotelsearch?hotel.checkin=2015-09-20&hotel.customMaximumPriceFilter=275&hotel.min_score=5&hotel.adults=3&hotel.city=London,+United+Kingdom&hotel.checkout=2015-09-29&hotel.search_page=1\n",
      "\n",
      "http://www.mysearchforhotels.com/shop/hotelsearch?hotel.checkin=2015-09-14&hotel.freeCancellation=yes&hotel.adults=2&hotel.city=San+Francisco,+California,+United+States&hotel.checkout=2015-09-16&hotel.search_page=1\n",
      "\n",
      "http://www.mysearchforhotels.com/shop/hotelsearch?hotel.checkin=2015-09-20&hotel.customMaximumPriceFilter=125&hotel.stars_2=yes&hotel.min_score=5&hotel.adults=1&hotel.city=Hong+Kong,+Hong+Kong&hotel.checkout=2015-09-21&hotel.search_page=1\n",
      "\n",
      "http://www.mysearchforhotels.com/shop/hotelsearch?hotel.checkin=2015-09-26&hotel.customMaximumPriceFilter=175&hotel.min_score=5&hotel.adults=1&hotel.city=San+Francisco,+California,+United+States&hotel.checkout=2015-09-27&hotel.search_page=1\n",
      "\n",
      "http://www.mysearchforhotels.com/shop/hotelsearch?hotel.checkin=2015-09-01&hotel.customMaximumPriceFilter=75&hotel.stars_2=yes&hotel.min_score=4&hotel.adults=2&hotel.city=New+York,+NY,+United+States&hotel.children=1&hotel.checkout=2015-09-02&hotel.search_page=1\n",
      "\n",
      "http://www.mysearchforhotels.com/shop/hotelsearch?hotel.checkin=2015-09-25&hotel.customMaximumPriceFilter=75&hotel.freeCancellation=yes&hotel.min_score=5&hotel.adults=1&hotel.city=New+York,+NY,+United+States&hotel.checkout=2015-09-26&hotel.search_page=1\n",
      "\n"
     ]
    }
   ],
   "source": [
    "with open('./Data/url_list.txt', 'r') as f:\n",
    "#     line = f.read(10) # read 10 characters\n",
    "#     line = f.read() # read the whole content\n",
    "    for _ in range(10):\n",
    "        line = f.readline()\n",
    "        print(line)"
   ]
  },
  {
   "cell_type": "markdown",
   "metadata": {},
   "source": [
    "+ read data file\n",
    "+ check several URLs"
   ]
  },
  {
   "cell_type": "code",
   "execution_count": 4,
   "metadata": {},
   "outputs": [
    {
     "data": {
      "text/plain": [
       "['2015-09-25']"
      ]
     },
     "execution_count": 4,
     "metadata": {},
     "output_type": "execute_result"
    }
   ],
   "source": [
    "pattern = re.compile('hotel.checkin=(.*?)&.*?')\n",
    "re.findall(pattern, line)"
   ]
  },
  {
   "cell_type": "markdown",
   "metadata": {},
   "source": [
    "Test using re package to extract required information"
   ]
  },
  {
   "cell_type": "code",
   "execution_count": 5,
   "metadata": {},
   "outputs": [],
   "source": [
    "features = ['checkin', 'checkout', 'customMinimumPriceFilter', 'customMaximumPriceFilter', 'freeCancellation', \n",
    "            'stars_5', 'stars_4', 'stars_3', 'stars_2', 'stars_1', 'max_score', 'min_score', 'couponCode', 'adults', \n",
    "            'city', 'children', 'amenities', 'search_page']"
   ]
  },
  {
   "cell_type": "code",
   "execution_count": 6,
   "metadata": {},
   "outputs": [
    {
     "name": "stdout",
     "output_type": "stream",
     "text": [
      "http://www.mysearchforhotels.com/shop/hotelsearch?hotel.checkin=2015-09-04&hotel.freeCancellation=yes&hotel.min_score=4&hotel.adults=2&hotel.city=New+York,+NY,+United+States&hotel.amenities=yes_smoking&hotel.amenities=yes_pet&hotel.checkout=2015-09-05&hotel.search_page=1\n",
      "\n",
      "['yes_smoking', 'yes_pet']\n",
      "http://www.mysearchforhotels.com/shop/hotelsearch?hotel.checkin=2015-09-22&hotel.min_score=5&hotel.adults=2&hotel.city=San+Francisco,+California,+United+States&hotel.amenities=breakfast&hotel.amenities=yes_pet&hotel.checkout=2015-09-29&hotel.search_page=1\n",
      "\n",
      "['breakfast', 'yes_pet']\n",
      "http://www.mysearchforhotels.com/shop/hotelsearch?hotel.checkin=2015-09-26&hotel.min_score=5&hotel.adults=2&hotel.city=New+York,+NY,+United+States&hotel.amenities=yes_smoking&hotel.amenities=yes_pet&hotel.checkout=2015-09-27&hotel.search_page=1\n",
      "\n",
      "['yes_smoking', 'yes_pet']\n",
      "http://www.mysearchforhotels.com/shop/hotelsearch?hotel.checkin=2015-09-26&hotel.min_score=5&hotel.adults=2&hotel.city=New+York,+NY,+United+States&hotel.amenities=yes_smoking&hotel.amenities=yes_pet&hotel.checkout=2015-09-27&hotel.search_page=2\n",
      "\n",
      "['yes_smoking', 'yes_pet']\n",
      "http://www.mysearchforhotels.com/shop/hotelsearch?hotel.checkin=2015-09-26&hotel.min_score=5&hotel.adults=2&hotel.city=New+York,+NY,+United+States&hotel.amenities=yes_smoking&hotel.amenities=yes_pet&hotel.checkout=2015-09-27&hotel.search_page=3\n",
      "\n",
      "['yes_smoking', 'yes_pet']\n"
     ]
    }
   ],
   "source": [
    "with open('./Data/url_list.txt', 'r') as f:\n",
    "#     line = f.read(10) # read 10 characters\n",
    "#     line = f.read() # read the whole content\n",
    "    lines = f.readlines()\n",
    "    len_lines = len(lines)\n",
    "    \n",
    "    col_data = {}\n",
    "\n",
    "    for feature in features:\n",
    "        col_data[feature] = [np.nan] * len_lines\n",
    "\n",
    "    for idx, line in enumerate(lines):\n",
    "        for feature in features:\n",
    "            pattern = re.compile('hotel.'+feature+'=(.*?)[&\\n].*?')\n",
    "            result = re.findall(pattern, line)\n",
    "            if len(result) > 0:\n",
    "                if feature == 'city':\n",
    "                    col_data[feature][idx] = result[0].replace('+', ' ')\n",
    "                else:\n",
    "                    # original code\n",
    "                    # col_data[feature][idx] = result[0] \n",
    "                    \n",
    "                    # in case there are more than one result in the URL\n",
    "                    col_data[feature][idx] = ','.join(result)\n",
    "                # print the url when there are more than one search result for each feature\n",
    "                if len(result) > 1:\n",
    "                    print(line)\n",
    "                    print(result)\n",
    "    \n",
    "    Search_Data = pd.DataFrame(data=col_data)"
   ]
  },
  {
   "cell_type": "code",
   "execution_count": 7,
   "metadata": {},
   "outputs": [
    {
     "data": {
      "text/html": [
       "<div>\n",
       "<style scoped>\n",
       "    .dataframe tbody tr th:only-of-type {\n",
       "        vertical-align: middle;\n",
       "    }\n",
       "\n",
       "    .dataframe tbody tr th {\n",
       "        vertical-align: top;\n",
       "    }\n",
       "\n",
       "    .dataframe thead th {\n",
       "        text-align: right;\n",
       "    }\n",
       "</style>\n",
       "<table border=\"1\" class=\"dataframe\">\n",
       "  <thead>\n",
       "    <tr style=\"text-align: right;\">\n",
       "      <th></th>\n",
       "      <th>checkin</th>\n",
       "      <th>checkout</th>\n",
       "      <th>customMinimumPriceFilter</th>\n",
       "      <th>customMaximumPriceFilter</th>\n",
       "      <th>freeCancellation</th>\n",
       "      <th>stars_5</th>\n",
       "      <th>stars_4</th>\n",
       "      <th>stars_3</th>\n",
       "      <th>stars_2</th>\n",
       "      <th>stars_1</th>\n",
       "      <th>max_score</th>\n",
       "      <th>min_score</th>\n",
       "      <th>couponCode</th>\n",
       "      <th>adults</th>\n",
       "      <th>city</th>\n",
       "      <th>children</th>\n",
       "      <th>amenities</th>\n",
       "      <th>search_page</th>\n",
       "    </tr>\n",
       "  </thead>\n",
       "  <tbody>\n",
       "    <tr>\n",
       "      <th>0</th>\n",
       "      <td>2015-09-19</td>\n",
       "      <td>2015-09-20</td>\n",
       "      <td>NaN</td>\n",
       "      <td>NaN</td>\n",
       "      <td>NaN</td>\n",
       "      <td>NaN</td>\n",
       "      <td>yes</td>\n",
       "      <td>NaN</td>\n",
       "      <td>NaN</td>\n",
       "      <td>NaN</td>\n",
       "      <td>NaN</td>\n",
       "      <td>4</td>\n",
       "      <td>NaN</td>\n",
       "      <td>3</td>\n",
       "      <td>New York, NY, United States</td>\n",
       "      <td>NaN</td>\n",
       "      <td>NaN</td>\n",
       "      <td>1</td>\n",
       "    </tr>\n",
       "    <tr>\n",
       "      <th>1</th>\n",
       "      <td>2015-09-14</td>\n",
       "      <td>2015-09-15</td>\n",
       "      <td>NaN</td>\n",
       "      <td>NaN</td>\n",
       "      <td>NaN</td>\n",
       "      <td>NaN</td>\n",
       "      <td>NaN</td>\n",
       "      <td>yes</td>\n",
       "      <td>NaN</td>\n",
       "      <td>NaN</td>\n",
       "      <td>NaN</td>\n",
       "      <td>4</td>\n",
       "      <td>NaN</td>\n",
       "      <td>3</td>\n",
       "      <td>London, United Kingdom</td>\n",
       "      <td>NaN</td>\n",
       "      <td>NaN</td>\n",
       "      <td>1</td>\n",
       "    </tr>\n",
       "    <tr>\n",
       "      <th>2</th>\n",
       "      <td>2015-09-26</td>\n",
       "      <td>2015-09-27</td>\n",
       "      <td>NaN</td>\n",
       "      <td>175</td>\n",
       "      <td>NaN</td>\n",
       "      <td>NaN</td>\n",
       "      <td>yes</td>\n",
       "      <td>NaN</td>\n",
       "      <td>NaN</td>\n",
       "      <td>NaN</td>\n",
       "      <td>NaN</td>\n",
       "      <td>5</td>\n",
       "      <td>NaN</td>\n",
       "      <td>2</td>\n",
       "      <td>New York, NY, United States</td>\n",
       "      <td>NaN</td>\n",
       "      <td>NaN</td>\n",
       "      <td>1</td>\n",
       "    </tr>\n",
       "    <tr>\n",
       "      <th>3</th>\n",
       "      <td>2015-09-02</td>\n",
       "      <td>2015-09-03</td>\n",
       "      <td>NaN</td>\n",
       "      <td>NaN</td>\n",
       "      <td>NaN</td>\n",
       "      <td>yes</td>\n",
       "      <td>yes</td>\n",
       "      <td>NaN</td>\n",
       "      <td>NaN</td>\n",
       "      <td>NaN</td>\n",
       "      <td>NaN</td>\n",
       "      <td>4</td>\n",
       "      <td>NaN</td>\n",
       "      <td>1</td>\n",
       "      <td>Hong Kong, Hong Kong</td>\n",
       "      <td>NaN</td>\n",
       "      <td>NaN</td>\n",
       "      <td>1</td>\n",
       "    </tr>\n",
       "    <tr>\n",
       "      <th>4</th>\n",
       "      <td>2015-09-20</td>\n",
       "      <td>2015-09-29</td>\n",
       "      <td>NaN</td>\n",
       "      <td>275</td>\n",
       "      <td>NaN</td>\n",
       "      <td>NaN</td>\n",
       "      <td>NaN</td>\n",
       "      <td>NaN</td>\n",
       "      <td>NaN</td>\n",
       "      <td>NaN</td>\n",
       "      <td>NaN</td>\n",
       "      <td>5</td>\n",
       "      <td>NaN</td>\n",
       "      <td>3</td>\n",
       "      <td>London, United Kingdom</td>\n",
       "      <td>NaN</td>\n",
       "      <td>NaN</td>\n",
       "      <td>1</td>\n",
       "    </tr>\n",
       "  </tbody>\n",
       "</table>\n",
       "</div>"
      ],
      "text/plain": [
       "      checkin    checkout customMinimumPriceFilter customMaximumPriceFilter  \\\n",
       "0  2015-09-19  2015-09-20                      NaN                      NaN   \n",
       "1  2015-09-14  2015-09-15                      NaN                      NaN   \n",
       "2  2015-09-26  2015-09-27                      NaN                      175   \n",
       "3  2015-09-02  2015-09-03                      NaN                      NaN   \n",
       "4  2015-09-20  2015-09-29                      NaN                      275   \n",
       "\n",
       "  freeCancellation stars_5 stars_4 stars_3 stars_2 stars_1 max_score  \\\n",
       "0              NaN     NaN     yes     NaN     NaN     NaN       NaN   \n",
       "1              NaN     NaN     NaN     yes     NaN     NaN       NaN   \n",
       "2              NaN     NaN     yes     NaN     NaN     NaN       NaN   \n",
       "3              NaN     yes     yes     NaN     NaN     NaN       NaN   \n",
       "4              NaN     NaN     NaN     NaN     NaN     NaN       NaN   \n",
       "\n",
       "  min_score couponCode adults                         city children amenities  \\\n",
       "0         4        NaN      3  New York, NY, United States      NaN       NaN   \n",
       "1         4        NaN      3       London, United Kingdom      NaN       NaN   \n",
       "2         5        NaN      2  New York, NY, United States      NaN       NaN   \n",
       "3         4        NaN      1         Hong Kong, Hong Kong      NaN       NaN   \n",
       "4         5        NaN      3       London, United Kingdom      NaN       NaN   \n",
       "\n",
       "  search_page  \n",
       "0           1  \n",
       "1           1  \n",
       "2           1  \n",
       "3           1  \n",
       "4           1  "
      ]
     },
     "execution_count": 7,
     "metadata": {},
     "output_type": "execute_result"
    }
   ],
   "source": [
    "Search_Data.head()"
   ]
  },
  {
   "cell_type": "code",
   "execution_count": 8,
   "metadata": {
    "scrolled": false
   },
   "outputs": [
    {
     "data": {
      "text/html": [
       "<div>\n",
       "<style scoped>\n",
       "    .dataframe tbody tr th:only-of-type {\n",
       "        vertical-align: middle;\n",
       "    }\n",
       "\n",
       "    .dataframe tbody tr th {\n",
       "        vertical-align: top;\n",
       "    }\n",
       "\n",
       "    .dataframe thead th {\n",
       "        text-align: right;\n",
       "    }\n",
       "</style>\n",
       "<table border=\"1\" class=\"dataframe\">\n",
       "  <thead>\n",
       "    <tr style=\"text-align: right;\">\n",
       "      <th></th>\n",
       "      <th>checkin</th>\n",
       "      <th>checkout</th>\n",
       "      <th>MinPriceFilter</th>\n",
       "      <th>MaxPriceFilter</th>\n",
       "      <th>freeCancellation</th>\n",
       "      <th>stars_5</th>\n",
       "      <th>stars_4</th>\n",
       "      <th>stars_3</th>\n",
       "      <th>stars_2</th>\n",
       "      <th>stars_1</th>\n",
       "      <th>max_score</th>\n",
       "      <th>min_score</th>\n",
       "      <th>couponCode</th>\n",
       "      <th>adults</th>\n",
       "      <th>city</th>\n",
       "      <th>children</th>\n",
       "      <th>amenities</th>\n",
       "      <th>search_page</th>\n",
       "    </tr>\n",
       "  </thead>\n",
       "  <tbody>\n",
       "    <tr>\n",
       "      <th>0</th>\n",
       "      <td>2015-09-19</td>\n",
       "      <td>2015-09-20</td>\n",
       "      <td>NaN</td>\n",
       "      <td>NaN</td>\n",
       "      <td>NaN</td>\n",
       "      <td>NaN</td>\n",
       "      <td>yes</td>\n",
       "      <td>NaN</td>\n",
       "      <td>NaN</td>\n",
       "      <td>NaN</td>\n",
       "      <td>NaN</td>\n",
       "      <td>4</td>\n",
       "      <td>NaN</td>\n",
       "      <td>3</td>\n",
       "      <td>New York, NY, United States</td>\n",
       "      <td>NaN</td>\n",
       "      <td>NaN</td>\n",
       "      <td>1</td>\n",
       "    </tr>\n",
       "    <tr>\n",
       "      <th>1</th>\n",
       "      <td>2015-09-14</td>\n",
       "      <td>2015-09-15</td>\n",
       "      <td>NaN</td>\n",
       "      <td>NaN</td>\n",
       "      <td>NaN</td>\n",
       "      <td>NaN</td>\n",
       "      <td>NaN</td>\n",
       "      <td>yes</td>\n",
       "      <td>NaN</td>\n",
       "      <td>NaN</td>\n",
       "      <td>NaN</td>\n",
       "      <td>4</td>\n",
       "      <td>NaN</td>\n",
       "      <td>3</td>\n",
       "      <td>London, United Kingdom</td>\n",
       "      <td>NaN</td>\n",
       "      <td>NaN</td>\n",
       "      <td>1</td>\n",
       "    </tr>\n",
       "    <tr>\n",
       "      <th>2</th>\n",
       "      <td>2015-09-26</td>\n",
       "      <td>2015-09-27</td>\n",
       "      <td>NaN</td>\n",
       "      <td>175</td>\n",
       "      <td>NaN</td>\n",
       "      <td>NaN</td>\n",
       "      <td>yes</td>\n",
       "      <td>NaN</td>\n",
       "      <td>NaN</td>\n",
       "      <td>NaN</td>\n",
       "      <td>NaN</td>\n",
       "      <td>5</td>\n",
       "      <td>NaN</td>\n",
       "      <td>2</td>\n",
       "      <td>New York, NY, United States</td>\n",
       "      <td>NaN</td>\n",
       "      <td>NaN</td>\n",
       "      <td>1</td>\n",
       "    </tr>\n",
       "    <tr>\n",
       "      <th>3</th>\n",
       "      <td>2015-09-02</td>\n",
       "      <td>2015-09-03</td>\n",
       "      <td>NaN</td>\n",
       "      <td>NaN</td>\n",
       "      <td>NaN</td>\n",
       "      <td>yes</td>\n",
       "      <td>yes</td>\n",
       "      <td>NaN</td>\n",
       "      <td>NaN</td>\n",
       "      <td>NaN</td>\n",
       "      <td>NaN</td>\n",
       "      <td>4</td>\n",
       "      <td>NaN</td>\n",
       "      <td>1</td>\n",
       "      <td>Hong Kong, Hong Kong</td>\n",
       "      <td>NaN</td>\n",
       "      <td>NaN</td>\n",
       "      <td>1</td>\n",
       "    </tr>\n",
       "    <tr>\n",
       "      <th>4</th>\n",
       "      <td>2015-09-20</td>\n",
       "      <td>2015-09-29</td>\n",
       "      <td>NaN</td>\n",
       "      <td>275</td>\n",
       "      <td>NaN</td>\n",
       "      <td>NaN</td>\n",
       "      <td>NaN</td>\n",
       "      <td>NaN</td>\n",
       "      <td>NaN</td>\n",
       "      <td>NaN</td>\n",
       "      <td>NaN</td>\n",
       "      <td>5</td>\n",
       "      <td>NaN</td>\n",
       "      <td>3</td>\n",
       "      <td>London, United Kingdom</td>\n",
       "      <td>NaN</td>\n",
       "      <td>NaN</td>\n",
       "      <td>1</td>\n",
       "    </tr>\n",
       "  </tbody>\n",
       "</table>\n",
       "</div>"
      ],
      "text/plain": [
       "      checkin    checkout MinPriceFilter MaxPriceFilter freeCancellation  \\\n",
       "0  2015-09-19  2015-09-20            NaN            NaN              NaN   \n",
       "1  2015-09-14  2015-09-15            NaN            NaN              NaN   \n",
       "2  2015-09-26  2015-09-27            NaN            175              NaN   \n",
       "3  2015-09-02  2015-09-03            NaN            NaN              NaN   \n",
       "4  2015-09-20  2015-09-29            NaN            275              NaN   \n",
       "\n",
       "  stars_5 stars_4 stars_3 stars_2 stars_1 max_score min_score couponCode  \\\n",
       "0     NaN     yes     NaN     NaN     NaN       NaN         4        NaN   \n",
       "1     NaN     NaN     yes     NaN     NaN       NaN         4        NaN   \n",
       "2     NaN     yes     NaN     NaN     NaN       NaN         5        NaN   \n",
       "3     yes     yes     NaN     NaN     NaN       NaN         4        NaN   \n",
       "4     NaN     NaN     NaN     NaN     NaN       NaN         5        NaN   \n",
       "\n",
       "  adults                         city children amenities search_page  \n",
       "0      3  New York, NY, United States      NaN       NaN           1  \n",
       "1      3       London, United Kingdom      NaN       NaN           1  \n",
       "2      2  New York, NY, United States      NaN       NaN           1  \n",
       "3      1         Hong Kong, Hong Kong      NaN       NaN           1  \n",
       "4      3       London, United Kingdom      NaN       NaN           1  "
      ]
     },
     "execution_count": 8,
     "metadata": {},
     "output_type": "execute_result"
    }
   ],
   "source": [
    "Search_Data.rename(columns={'customMinimumPriceFilter': 'MinPriceFilter', 'customMaximumPriceFilter':'MaxPriceFilter'},\n",
    "                  inplace=True)\n",
    "Search_Data.head()"
   ]
  },
  {
   "cell_type": "code",
   "execution_count": 9,
   "metadata": {},
   "outputs": [
    {
     "name": "stdout",
     "output_type": "stream",
     "text": [
      "<class 'pandas.core.frame.DataFrame'>\n",
      "RangeIndex: 77677 entries, 0 to 77676\n",
      "Data columns (total 18 columns):\n",
      "checkin             77677 non-null object\n",
      "checkout            77677 non-null object\n",
      "MinPriceFilter      1270 non-null object\n",
      "MaxPriceFilter      49288 non-null object\n",
      "freeCancellation    17949 non-null object\n",
      "stars_5             4303 non-null object\n",
      "stars_4             12704 non-null object\n",
      "stars_3             14862 non-null object\n",
      "stars_2             9931 non-null object\n",
      "stars_1             9323 non-null object\n",
      "max_score           5517 non-null object\n",
      "min_score           60826 non-null object\n",
      "couponCode          2221 non-null object\n",
      "adults              77677 non-null object\n",
      "city                77677 non-null object\n",
      "children            260 non-null object\n",
      "amenities           704 non-null object\n",
      "search_page         77677 non-null object\n",
      "dtypes: object(18)\n",
      "memory usage: 10.7+ MB\n"
     ]
    }
   ],
   "source": [
    "Search_Data.info()"
   ]
  },
  {
   "cell_type": "code",
   "execution_count": 10,
   "metadata": {},
   "outputs": [
    {
     "data": {
      "text/plain": [
       "checkin                 0\n",
       "checkout                0\n",
       "MinPriceFilter      76407\n",
       "MaxPriceFilter      28389\n",
       "freeCancellation    59728\n",
       "stars_5             73374\n",
       "stars_4             64973\n",
       "stars_3             62815\n",
       "stars_2             67746\n",
       "stars_1             68354\n",
       "max_score           72160\n",
       "min_score           16851\n",
       "couponCode          75456\n",
       "adults                  0\n",
       "city                    0\n",
       "children            77417\n",
       "amenities           76973\n",
       "search_page             0\n",
       "dtype: int64"
      ]
     },
     "execution_count": 10,
     "metadata": {},
     "output_type": "execute_result"
    }
   ],
   "source": [
    "Search_Data.isnull().sum()"
   ]
  },
  {
   "cell_type": "code",
   "execution_count": 11,
   "metadata": {
    "scrolled": true
   },
   "outputs": [
    {
     "data": {
      "text/html": [
       "<div>\n",
       "<style scoped>\n",
       "    .dataframe tbody tr th:only-of-type {\n",
       "        vertical-align: middle;\n",
       "    }\n",
       "\n",
       "    .dataframe tbody tr th {\n",
       "        vertical-align: top;\n",
       "    }\n",
       "\n",
       "    .dataframe thead th {\n",
       "        text-align: right;\n",
       "    }\n",
       "</style>\n",
       "<table border=\"1\" class=\"dataframe\">\n",
       "  <thead>\n",
       "    <tr style=\"text-align: right;\">\n",
       "      <th></th>\n",
       "      <th>checkin</th>\n",
       "      <th>checkout</th>\n",
       "      <th>MinPriceFilter</th>\n",
       "      <th>MaxPriceFilter</th>\n",
       "      <th>freeCancellation</th>\n",
       "      <th>stars_5</th>\n",
       "      <th>stars_4</th>\n",
       "      <th>stars_3</th>\n",
       "      <th>stars_2</th>\n",
       "      <th>stars_1</th>\n",
       "      <th>max_score</th>\n",
       "      <th>min_score</th>\n",
       "      <th>couponCode</th>\n",
       "      <th>adults</th>\n",
       "      <th>city</th>\n",
       "      <th>children</th>\n",
       "      <th>amenities</th>\n",
       "      <th>search_page</th>\n",
       "    </tr>\n",
       "  </thead>\n",
       "  <tbody>\n",
       "    <tr>\n",
       "      <th>count</th>\n",
       "      <td>77677</td>\n",
       "      <td>77677</td>\n",
       "      <td>1270</td>\n",
       "      <td>49288</td>\n",
       "      <td>17949</td>\n",
       "      <td>4303</td>\n",
       "      <td>12704</td>\n",
       "      <td>14862</td>\n",
       "      <td>9931</td>\n",
       "      <td>9323</td>\n",
       "      <td>5517</td>\n",
       "      <td>60826</td>\n",
       "      <td>2221</td>\n",
       "      <td>77677</td>\n",
       "      <td>77677</td>\n",
       "      <td>260</td>\n",
       "      <td>704</td>\n",
       "      <td>77677</td>\n",
       "    </tr>\n",
       "    <tr>\n",
       "      <th>unique</th>\n",
       "      <td>29</td>\n",
       "      <td>48</td>\n",
       "      <td>6</td>\n",
       "      <td>6</td>\n",
       "      <td>1</td>\n",
       "      <td>1</td>\n",
       "      <td>1</td>\n",
       "      <td>1</td>\n",
       "      <td>1</td>\n",
       "      <td>1</td>\n",
       "      <td>2</td>\n",
       "      <td>5</td>\n",
       "      <td>1</td>\n",
       "      <td>4</td>\n",
       "      <td>4</td>\n",
       "      <td>2</td>\n",
       "      <td>8</td>\n",
       "      <td>10</td>\n",
       "    </tr>\n",
       "    <tr>\n",
       "      <th>top</th>\n",
       "      <td>2015-09-19</td>\n",
       "      <td>2015-09-20</td>\n",
       "      <td>150</td>\n",
       "      <td>175</td>\n",
       "      <td>yes</td>\n",
       "      <td>yes</td>\n",
       "      <td>yes</td>\n",
       "      <td>yes</td>\n",
       "      <td>yes</td>\n",
       "      <td>yes</td>\n",
       "      <td>5</td>\n",
       "      <td>4</td>\n",
       "      <td>yes</td>\n",
       "      <td>2</td>\n",
       "      <td>New York, NY, United States</td>\n",
       "      <td>1</td>\n",
       "      <td>internet</td>\n",
       "      <td>1</td>\n",
       "    </tr>\n",
       "    <tr>\n",
       "      <th>freq</th>\n",
       "      <td>5279</td>\n",
       "      <td>6003</td>\n",
       "      <td>389</td>\n",
       "      <td>14569</td>\n",
       "      <td>17949</td>\n",
       "      <td>4303</td>\n",
       "      <td>12704</td>\n",
       "      <td>14862</td>\n",
       "      <td>9931</td>\n",
       "      <td>9323</td>\n",
       "      <td>5454</td>\n",
       "      <td>33639</td>\n",
       "      <td>2221</td>\n",
       "      <td>45922</td>\n",
       "      <td>29384</td>\n",
       "      <td>180</td>\n",
       "      <td>272</td>\n",
       "      <td>50000</td>\n",
       "    </tr>\n",
       "  </tbody>\n",
       "</table>\n",
       "</div>"
      ],
      "text/plain": [
       "           checkin    checkout MinPriceFilter MaxPriceFilter freeCancellation  \\\n",
       "count        77677       77677           1270          49288            17949   \n",
       "unique          29          48              6              6                1   \n",
       "top     2015-09-19  2015-09-20            150            175              yes   \n",
       "freq          5279        6003            389          14569            17949   \n",
       "\n",
       "       stars_5 stars_4 stars_3 stars_2 stars_1 max_score min_score couponCode  \\\n",
       "count     4303   12704   14862    9931    9323      5517     60826       2221   \n",
       "unique       1       1       1       1       1         2         5          1   \n",
       "top        yes     yes     yes     yes     yes         5         4        yes   \n",
       "freq      4303   12704   14862    9931    9323      5454     33639       2221   \n",
       "\n",
       "       adults                         city children amenities search_page  \n",
       "count   77677                        77677      260       704       77677  \n",
       "unique      4                            4        2         8          10  \n",
       "top         2  New York, NY, United States        1  internet           1  \n",
       "freq    45922                        29384      180       272       50000  "
      ]
     },
     "execution_count": 11,
     "metadata": {},
     "output_type": "execute_result"
    }
   ],
   "source": [
    "Search_Data.describe(include='all')"
   ]
  },
  {
   "cell_type": "markdown",
   "metadata": {},
   "source": [
    "To explore the dataset, we can check those unique values for each column.\n",
    "\n",
    "In this project, I will focus on the questions in the challenge description."
   ]
  },
  {
   "cell_type": "markdown",
   "metadata": {},
   "source": [
    "# Answer to question 1:\n",
    "Create a clean data set where each column is a ﬁeld in the URL, each row is a given search and the cells are the corresponding URL values. "
   ]
  },
  {
   "cell_type": "code",
   "execution_count": 12,
   "metadata": {},
   "outputs": [
    {
     "data": {
      "text/html": [
       "<div>\n",
       "<style scoped>\n",
       "    .dataframe tbody tr th:only-of-type {\n",
       "        vertical-align: middle;\n",
       "    }\n",
       "\n",
       "    .dataframe tbody tr th {\n",
       "        vertical-align: top;\n",
       "    }\n",
       "\n",
       "    .dataframe thead th {\n",
       "        text-align: right;\n",
       "    }\n",
       "</style>\n",
       "<table border=\"1\" class=\"dataframe\">\n",
       "  <thead>\n",
       "    <tr style=\"text-align: right;\">\n",
       "      <th></th>\n",
       "      <th>checkin</th>\n",
       "      <th>checkout</th>\n",
       "      <th>MinPriceFilter</th>\n",
       "      <th>MaxPriceFilter</th>\n",
       "      <th>freeCancellation</th>\n",
       "      <th>stars_5</th>\n",
       "      <th>stars_4</th>\n",
       "      <th>stars_3</th>\n",
       "      <th>stars_2</th>\n",
       "      <th>stars_1</th>\n",
       "      <th>max_score</th>\n",
       "      <th>min_score</th>\n",
       "      <th>couponCode</th>\n",
       "      <th>adults</th>\n",
       "      <th>city</th>\n",
       "      <th>children</th>\n",
       "      <th>amenities</th>\n",
       "      <th>search_page</th>\n",
       "    </tr>\n",
       "  </thead>\n",
       "  <tbody>\n",
       "    <tr>\n",
       "      <th>0</th>\n",
       "      <td>2015-09-19</td>\n",
       "      <td>2015-09-20</td>\n",
       "      <td>NaN</td>\n",
       "      <td>NaN</td>\n",
       "      <td>NaN</td>\n",
       "      <td>NaN</td>\n",
       "      <td>yes</td>\n",
       "      <td>NaN</td>\n",
       "      <td>NaN</td>\n",
       "      <td>NaN</td>\n",
       "      <td>NaN</td>\n",
       "      <td>4</td>\n",
       "      <td>NaN</td>\n",
       "      <td>3</td>\n",
       "      <td>New York, NY, United States</td>\n",
       "      <td>NaN</td>\n",
       "      <td>NaN</td>\n",
       "      <td>1</td>\n",
       "    </tr>\n",
       "    <tr>\n",
       "      <th>1</th>\n",
       "      <td>2015-09-14</td>\n",
       "      <td>2015-09-15</td>\n",
       "      <td>NaN</td>\n",
       "      <td>NaN</td>\n",
       "      <td>NaN</td>\n",
       "      <td>NaN</td>\n",
       "      <td>NaN</td>\n",
       "      <td>yes</td>\n",
       "      <td>NaN</td>\n",
       "      <td>NaN</td>\n",
       "      <td>NaN</td>\n",
       "      <td>4</td>\n",
       "      <td>NaN</td>\n",
       "      <td>3</td>\n",
       "      <td>London, United Kingdom</td>\n",
       "      <td>NaN</td>\n",
       "      <td>NaN</td>\n",
       "      <td>1</td>\n",
       "    </tr>\n",
       "    <tr>\n",
       "      <th>2</th>\n",
       "      <td>2015-09-26</td>\n",
       "      <td>2015-09-27</td>\n",
       "      <td>NaN</td>\n",
       "      <td>175</td>\n",
       "      <td>NaN</td>\n",
       "      <td>NaN</td>\n",
       "      <td>yes</td>\n",
       "      <td>NaN</td>\n",
       "      <td>NaN</td>\n",
       "      <td>NaN</td>\n",
       "      <td>NaN</td>\n",
       "      <td>5</td>\n",
       "      <td>NaN</td>\n",
       "      <td>2</td>\n",
       "      <td>New York, NY, United States</td>\n",
       "      <td>NaN</td>\n",
       "      <td>NaN</td>\n",
       "      <td>1</td>\n",
       "    </tr>\n",
       "    <tr>\n",
       "      <th>3</th>\n",
       "      <td>2015-09-02</td>\n",
       "      <td>2015-09-03</td>\n",
       "      <td>NaN</td>\n",
       "      <td>NaN</td>\n",
       "      <td>NaN</td>\n",
       "      <td>yes</td>\n",
       "      <td>yes</td>\n",
       "      <td>NaN</td>\n",
       "      <td>NaN</td>\n",
       "      <td>NaN</td>\n",
       "      <td>NaN</td>\n",
       "      <td>4</td>\n",
       "      <td>NaN</td>\n",
       "      <td>1</td>\n",
       "      <td>Hong Kong, Hong Kong</td>\n",
       "      <td>NaN</td>\n",
       "      <td>NaN</td>\n",
       "      <td>1</td>\n",
       "    </tr>\n",
       "    <tr>\n",
       "      <th>4</th>\n",
       "      <td>2015-09-20</td>\n",
       "      <td>2015-09-29</td>\n",
       "      <td>NaN</td>\n",
       "      <td>275</td>\n",
       "      <td>NaN</td>\n",
       "      <td>NaN</td>\n",
       "      <td>NaN</td>\n",
       "      <td>NaN</td>\n",
       "      <td>NaN</td>\n",
       "      <td>NaN</td>\n",
       "      <td>NaN</td>\n",
       "      <td>5</td>\n",
       "      <td>NaN</td>\n",
       "      <td>3</td>\n",
       "      <td>London, United Kingdom</td>\n",
       "      <td>NaN</td>\n",
       "      <td>NaN</td>\n",
       "      <td>1</td>\n",
       "    </tr>\n",
       "  </tbody>\n",
       "</table>\n",
       "</div>"
      ],
      "text/plain": [
       "      checkin    checkout MinPriceFilter MaxPriceFilter freeCancellation  \\\n",
       "0  2015-09-19  2015-09-20            NaN            NaN              NaN   \n",
       "1  2015-09-14  2015-09-15            NaN            NaN              NaN   \n",
       "2  2015-09-26  2015-09-27            NaN            175              NaN   \n",
       "3  2015-09-02  2015-09-03            NaN            NaN              NaN   \n",
       "4  2015-09-20  2015-09-29            NaN            275              NaN   \n",
       "\n",
       "  stars_5 stars_4 stars_3 stars_2 stars_1 max_score min_score couponCode  \\\n",
       "0     NaN     yes     NaN     NaN     NaN       NaN         4        NaN   \n",
       "1     NaN     NaN     yes     NaN     NaN       NaN         4        NaN   \n",
       "2     NaN     yes     NaN     NaN     NaN       NaN         5        NaN   \n",
       "3     yes     yes     NaN     NaN     NaN       NaN         4        NaN   \n",
       "4     NaN     NaN     NaN     NaN     NaN       NaN         5        NaN   \n",
       "\n",
       "  adults                         city children amenities search_page  \n",
       "0      3  New York, NY, United States      NaN       NaN           1  \n",
       "1      3       London, United Kingdom      NaN       NaN           1  \n",
       "2      2  New York, NY, United States      NaN       NaN           1  \n",
       "3      1         Hong Kong, Hong Kong      NaN       NaN           1  \n",
       "4      3       London, United Kingdom      NaN       NaN           1  "
      ]
     },
     "execution_count": 12,
     "metadata": {},
     "output_type": "execute_result"
    }
   ],
   "source": [
    "Search_Data.head()"
   ]
  },
  {
   "cell_type": "markdown",
   "metadata": {},
   "source": [
    "# Answer to question 2:\n",
    "For each search query, how many amenities were selected? "
   ]
  },
  {
   "cell_type": "code",
   "execution_count": 13,
   "metadata": {},
   "outputs": [
    {
     "data": {
      "text/plain": [
       "internet               272\n",
       "yes_smoking            170\n",
       "shuttle                111\n",
       "yes_pet                 85\n",
       "breakfast               39\n",
       "lounge                  22\n",
       "yes_smoking,yes_pet      4\n",
       "breakfast,yes_pet        1\n",
       "Name: amenities, dtype: int64"
      ]
     },
     "execution_count": 13,
     "metadata": {},
     "output_type": "execute_result"
    }
   ],
   "source": [
    "Search_Data['amenities'].value_counts()"
   ]
  },
  {
   "cell_type": "code",
   "execution_count": 14,
   "metadata": {},
   "outputs": [],
   "source": [
    "def str2count(s):\n",
    "    '''\n",
    "    input: strings in one column\n",
    "    output: words separated by ','/comma\n",
    "    '''\n",
    "    if pd.isna(s):\n",
    "        return 0\n",
    "    else:\n",
    "        return len(s.split(','))"
   ]
  },
  {
   "cell_type": "code",
   "execution_count": 15,
   "metadata": {},
   "outputs": [
    {
     "data": {
      "text/plain": [
       "0"
      ]
     },
     "execution_count": 15,
     "metadata": {},
     "output_type": "execute_result"
    }
   ],
   "source": [
    "# test str2count() function\n",
    "str2count(np.nan)"
   ]
  },
  {
   "cell_type": "code",
   "execution_count": 16,
   "metadata": {},
   "outputs": [],
   "source": [
    "Search_Data['amenities_count'] = Search_Data['amenities'].apply(str2count)"
   ]
  },
  {
   "cell_type": "code",
   "execution_count": 17,
   "metadata": {},
   "outputs": [
    {
     "data": {
      "text/html": [
       "<div>\n",
       "<style scoped>\n",
       "    .dataframe tbody tr th:only-of-type {\n",
       "        vertical-align: middle;\n",
       "    }\n",
       "\n",
       "    .dataframe tbody tr th {\n",
       "        vertical-align: top;\n",
       "    }\n",
       "\n",
       "    .dataframe thead th {\n",
       "        text-align: right;\n",
       "    }\n",
       "</style>\n",
       "<table border=\"1\" class=\"dataframe\">\n",
       "  <thead>\n",
       "    <tr style=\"text-align: right;\">\n",
       "      <th></th>\n",
       "      <th>checkin</th>\n",
       "      <th>checkout</th>\n",
       "      <th>MinPriceFilter</th>\n",
       "      <th>MaxPriceFilter</th>\n",
       "      <th>freeCancellation</th>\n",
       "      <th>stars_5</th>\n",
       "      <th>stars_4</th>\n",
       "      <th>stars_3</th>\n",
       "      <th>stars_2</th>\n",
       "      <th>stars_1</th>\n",
       "      <th>max_score</th>\n",
       "      <th>min_score</th>\n",
       "      <th>couponCode</th>\n",
       "      <th>adults</th>\n",
       "      <th>city</th>\n",
       "      <th>children</th>\n",
       "      <th>amenities</th>\n",
       "      <th>search_page</th>\n",
       "      <th>amenities_count</th>\n",
       "    </tr>\n",
       "  </thead>\n",
       "  <tbody>\n",
       "    <tr>\n",
       "      <th>0</th>\n",
       "      <td>2015-09-19</td>\n",
       "      <td>2015-09-20</td>\n",
       "      <td>NaN</td>\n",
       "      <td>NaN</td>\n",
       "      <td>NaN</td>\n",
       "      <td>NaN</td>\n",
       "      <td>yes</td>\n",
       "      <td>NaN</td>\n",
       "      <td>NaN</td>\n",
       "      <td>NaN</td>\n",
       "      <td>NaN</td>\n",
       "      <td>4</td>\n",
       "      <td>NaN</td>\n",
       "      <td>3</td>\n",
       "      <td>New York, NY, United States</td>\n",
       "      <td>NaN</td>\n",
       "      <td>NaN</td>\n",
       "      <td>1</td>\n",
       "      <td>0</td>\n",
       "    </tr>\n",
       "    <tr>\n",
       "      <th>1</th>\n",
       "      <td>2015-09-14</td>\n",
       "      <td>2015-09-15</td>\n",
       "      <td>NaN</td>\n",
       "      <td>NaN</td>\n",
       "      <td>NaN</td>\n",
       "      <td>NaN</td>\n",
       "      <td>NaN</td>\n",
       "      <td>yes</td>\n",
       "      <td>NaN</td>\n",
       "      <td>NaN</td>\n",
       "      <td>NaN</td>\n",
       "      <td>4</td>\n",
       "      <td>NaN</td>\n",
       "      <td>3</td>\n",
       "      <td>London, United Kingdom</td>\n",
       "      <td>NaN</td>\n",
       "      <td>NaN</td>\n",
       "      <td>1</td>\n",
       "      <td>0</td>\n",
       "    </tr>\n",
       "    <tr>\n",
       "      <th>2</th>\n",
       "      <td>2015-09-26</td>\n",
       "      <td>2015-09-27</td>\n",
       "      <td>NaN</td>\n",
       "      <td>175</td>\n",
       "      <td>NaN</td>\n",
       "      <td>NaN</td>\n",
       "      <td>yes</td>\n",
       "      <td>NaN</td>\n",
       "      <td>NaN</td>\n",
       "      <td>NaN</td>\n",
       "      <td>NaN</td>\n",
       "      <td>5</td>\n",
       "      <td>NaN</td>\n",
       "      <td>2</td>\n",
       "      <td>New York, NY, United States</td>\n",
       "      <td>NaN</td>\n",
       "      <td>NaN</td>\n",
       "      <td>1</td>\n",
       "      <td>0</td>\n",
       "    </tr>\n",
       "    <tr>\n",
       "      <th>3</th>\n",
       "      <td>2015-09-02</td>\n",
       "      <td>2015-09-03</td>\n",
       "      <td>NaN</td>\n",
       "      <td>NaN</td>\n",
       "      <td>NaN</td>\n",
       "      <td>yes</td>\n",
       "      <td>yes</td>\n",
       "      <td>NaN</td>\n",
       "      <td>NaN</td>\n",
       "      <td>NaN</td>\n",
       "      <td>NaN</td>\n",
       "      <td>4</td>\n",
       "      <td>NaN</td>\n",
       "      <td>1</td>\n",
       "      <td>Hong Kong, Hong Kong</td>\n",
       "      <td>NaN</td>\n",
       "      <td>NaN</td>\n",
       "      <td>1</td>\n",
       "      <td>0</td>\n",
       "    </tr>\n",
       "    <tr>\n",
       "      <th>4</th>\n",
       "      <td>2015-09-20</td>\n",
       "      <td>2015-09-29</td>\n",
       "      <td>NaN</td>\n",
       "      <td>275</td>\n",
       "      <td>NaN</td>\n",
       "      <td>NaN</td>\n",
       "      <td>NaN</td>\n",
       "      <td>NaN</td>\n",
       "      <td>NaN</td>\n",
       "      <td>NaN</td>\n",
       "      <td>NaN</td>\n",
       "      <td>5</td>\n",
       "      <td>NaN</td>\n",
       "      <td>3</td>\n",
       "      <td>London, United Kingdom</td>\n",
       "      <td>NaN</td>\n",
       "      <td>NaN</td>\n",
       "      <td>1</td>\n",
       "      <td>0</td>\n",
       "    </tr>\n",
       "  </tbody>\n",
       "</table>\n",
       "</div>"
      ],
      "text/plain": [
       "      checkin    checkout MinPriceFilter MaxPriceFilter freeCancellation  \\\n",
       "0  2015-09-19  2015-09-20            NaN            NaN              NaN   \n",
       "1  2015-09-14  2015-09-15            NaN            NaN              NaN   \n",
       "2  2015-09-26  2015-09-27            NaN            175              NaN   \n",
       "3  2015-09-02  2015-09-03            NaN            NaN              NaN   \n",
       "4  2015-09-20  2015-09-29            NaN            275              NaN   \n",
       "\n",
       "  stars_5 stars_4 stars_3 stars_2 stars_1 max_score min_score couponCode  \\\n",
       "0     NaN     yes     NaN     NaN     NaN       NaN         4        NaN   \n",
       "1     NaN     NaN     yes     NaN     NaN       NaN         4        NaN   \n",
       "2     NaN     yes     NaN     NaN     NaN       NaN         5        NaN   \n",
       "3     yes     yes     NaN     NaN     NaN       NaN         4        NaN   \n",
       "4     NaN     NaN     NaN     NaN     NaN       NaN         5        NaN   \n",
       "\n",
       "  adults                         city children amenities search_page  \\\n",
       "0      3  New York, NY, United States      NaN       NaN           1   \n",
       "1      3       London, United Kingdom      NaN       NaN           1   \n",
       "2      2  New York, NY, United States      NaN       NaN           1   \n",
       "3      1         Hong Kong, Hong Kong      NaN       NaN           1   \n",
       "4      3       London, United Kingdom      NaN       NaN           1   \n",
       "\n",
       "   amenities_count  \n",
       "0                0  \n",
       "1                0  \n",
       "2                0  \n",
       "3                0  \n",
       "4                0  "
      ]
     },
     "execution_count": 17,
     "metadata": {},
     "output_type": "execute_result"
    }
   ],
   "source": [
    "Search_Data.head()"
   ]
  },
  {
   "cell_type": "markdown",
   "metadata": {},
   "source": [
    "The amount of amenities in each search query is shown in __the 'amenities_count' column__."
   ]
  },
  {
   "cell_type": "code",
   "execution_count": 18,
   "metadata": {},
   "outputs": [
    {
     "data": {
      "text/plain": [
       "0    76973\n",
       "1      699\n",
       "2        5\n",
       "Name: amenities_count, dtype: int64"
      ]
     },
     "execution_count": 18,
     "metadata": {},
     "output_type": "execute_result"
    }
   ],
   "source": [
    "Search_Data['amenities_count'].value_counts()"
   ]
  },
  {
   "cell_type": "code",
   "execution_count": 22,
   "metadata": {},
   "outputs": [
    {
     "data": {
      "text/plain": [
       "0    0.990937\n",
       "1    0.008999\n",
       "2    0.000064\n",
       "Name: amenities_count, dtype: float64"
      ]
     },
     "execution_count": 22,
     "metadata": {},
     "output_type": "execute_result"
    }
   ],
   "source": [
    "Search_Data['amenities_count'].value_counts(normalize=True)"
   ]
  },
  {
   "cell_type": "markdown",
   "metadata": {},
   "source": [
    "It seems 99% of users have no habit to select the amenity item."
   ]
  },
  {
   "cell_type": "markdown",
   "metadata": {},
   "source": [
    "# Answer to question 3\n",
    "Often, to measure the quality of a search algorithm, data scientists use some metric based on how often users click on the second page, third page, and so on. The idea here is that a great search algorithm should return all interesting results on the ﬁrst page and never force users to visit the other pages (how often do you click on the second page results when you search on Google? Almost never, right?). __Create a metric based on the above idea and ﬁnd the city with the worst search algorithm.__\n"
   ]
  },
  {
   "cell_type": "code",
   "execution_count": 46,
   "metadata": {},
   "outputs": [
    {
     "name": "stdout",
     "output_type": "stream",
     "text": [
      "<class 'pandas.core.frame.DataFrame'>\n",
      "RangeIndex: 77677 entries, 0 to 77676\n",
      "Data columns (total 19 columns):\n",
      "checkin             77677 non-null object\n",
      "checkout            77677 non-null object\n",
      "MinPriceFilter      1270 non-null object\n",
      "MaxPriceFilter      49288 non-null object\n",
      "freeCancellation    17949 non-null object\n",
      "stars_5             4303 non-null object\n",
      "stars_4             12704 non-null object\n",
      "stars_3             14862 non-null object\n",
      "stars_2             9931 non-null object\n",
      "stars_1             9323 non-null object\n",
      "max_score           5517 non-null object\n",
      "min_score           60826 non-null object\n",
      "couponCode          2221 non-null object\n",
      "adults              77677 non-null object\n",
      "city                77677 non-null object\n",
      "children            260 non-null object\n",
      "amenities           704 non-null object\n",
      "search_page         77677 non-null object\n",
      "amenities_count     77677 non-null int64\n",
      "dtypes: int64(1), object(18)\n",
      "memory usage: 11.3+ MB\n"
     ]
    }
   ],
   "source": [
    "Search_Data.info()"
   ]
  },
  {
   "cell_type": "code",
   "execution_count": 48,
   "metadata": {},
   "outputs": [
    {
     "data": {
      "text/plain": [
       "1     50000\n",
       "2     11637\n",
       "3      5864\n",
       "4      3635\n",
       "5      2422\n",
       "6      1636\n",
       "7      1114\n",
       "8       740\n",
       "9       436\n",
       "10      193\n",
       "Name: search_page, dtype: int64"
      ]
     },
     "execution_count": 48,
     "metadata": {},
     "output_type": "execute_result"
    }
   ],
   "source": [
    "Search_Data['search_page'].value_counts()"
   ]
  },
  {
   "cell_type": "code",
   "execution_count": 21,
   "metadata": {},
   "outputs": [
    {
     "data": {
      "text/plain": [
       "1     0.643691\n",
       "2     0.149813\n",
       "3     0.075492\n",
       "4     0.046796\n",
       "5     0.031180\n",
       "6     0.021062\n",
       "7     0.014341\n",
       "8     0.009527\n",
       "9     0.005613\n",
       "10    0.002485\n",
       "Name: search_page, dtype: float64"
      ]
     },
     "execution_count": 21,
     "metadata": {},
     "output_type": "execute_result"
    }
   ],
   "source": [
    "Search_Data['search_page'].value_counts(normalize=True)"
   ]
  },
  {
   "cell_type": "code",
   "execution_count": 58,
   "metadata": {},
   "outputs": [
    {
     "data": {
      "text/plain": [
       "<matplotlib.axes._subplots.AxesSubplot at 0x15fe0e7d0b8>"
      ]
     },
     "execution_count": 58,
     "metadata": {},
     "output_type": "execute_result"
    },
    {
     "data": {
      "image/png": "[encoded data removed]",
      "text/plain": [
       "<Figure size 432x288 with 1 Axes>"
      ]
     },
     "metadata": {},
     "output_type": "display_data"
    }
   ],
   "source": [
    "Search_Data['search_page'].value_counts().plot(kind='bar')"
   ]
  },
  {
   "cell_type": "markdown",
   "metadata": {},
   "source": [
    "A great search algorithm should return all interesting and relevant results on the first page. Following this thought, I would like to define good search results as those in which users only visit one page, and normal search results as those in which users visit more than one page.\n",
    "\n",
    "From the plot and percentage above, more search results are good ones."
   ]
  },
  {
   "cell_type": "code",
   "execution_count": 50,
   "metadata": {},
   "outputs": [
    {
     "data": {
      "text/html": [
       "<div>\n",
       "<style scoped>\n",
       "    .dataframe tbody tr th:only-of-type {\n",
       "        vertical-align: middle;\n",
       "    }\n",
       "\n",
       "    .dataframe tbody tr th {\n",
       "        vertical-align: top;\n",
       "    }\n",
       "\n",
       "    .dataframe thead th {\n",
       "        text-align: right;\n",
       "    }\n",
       "</style>\n",
       "<table border=\"1\" class=\"dataframe\">\n",
       "  <thead>\n",
       "    <tr style=\"text-align: right;\">\n",
       "      <th></th>\n",
       "      <th>checkin</th>\n",
       "      <th>checkout</th>\n",
       "      <th>MinPriceFilter</th>\n",
       "      <th>MaxPriceFilter</th>\n",
       "      <th>freeCancellation</th>\n",
       "      <th>stars_5</th>\n",
       "      <th>stars_4</th>\n",
       "      <th>stars_3</th>\n",
       "      <th>stars_2</th>\n",
       "      <th>stars_1</th>\n",
       "      <th>max_score</th>\n",
       "      <th>min_score</th>\n",
       "      <th>couponCode</th>\n",
       "      <th>adults</th>\n",
       "      <th>city</th>\n",
       "      <th>children</th>\n",
       "      <th>amenities</th>\n",
       "      <th>search_page</th>\n",
       "      <th>amenities_count</th>\n",
       "      <th>search_quality</th>\n",
       "    </tr>\n",
       "  </thead>\n",
       "  <tbody>\n",
       "    <tr>\n",
       "      <th>0</th>\n",
       "      <td>2015-09-19</td>\n",
       "      <td>2015-09-20</td>\n",
       "      <td>NaN</td>\n",
       "      <td>NaN</td>\n",
       "      <td>NaN</td>\n",
       "      <td>NaN</td>\n",
       "      <td>yes</td>\n",
       "      <td>NaN</td>\n",
       "      <td>NaN</td>\n",
       "      <td>NaN</td>\n",
       "      <td>NaN</td>\n",
       "      <td>4</td>\n",
       "      <td>NaN</td>\n",
       "      <td>3</td>\n",
       "      <td>New York, NY, United States</td>\n",
       "      <td>NaN</td>\n",
       "      <td>NaN</td>\n",
       "      <td>1</td>\n",
       "      <td>0</td>\n",
       "      <td>1</td>\n",
       "    </tr>\n",
       "    <tr>\n",
       "      <th>1</th>\n",
       "      <td>2015-09-14</td>\n",
       "      <td>2015-09-15</td>\n",
       "      <td>NaN</td>\n",
       "      <td>NaN</td>\n",
       "      <td>NaN</td>\n",
       "      <td>NaN</td>\n",
       "      <td>NaN</td>\n",
       "      <td>yes</td>\n",
       "      <td>NaN</td>\n",
       "      <td>NaN</td>\n",
       "      <td>NaN</td>\n",
       "      <td>4</td>\n",
       "      <td>NaN</td>\n",
       "      <td>3</td>\n",
       "      <td>London, United Kingdom</td>\n",
       "      <td>NaN</td>\n",
       "      <td>NaN</td>\n",
       "      <td>1</td>\n",
       "      <td>0</td>\n",
       "      <td>1</td>\n",
       "    </tr>\n",
       "    <tr>\n",
       "      <th>2</th>\n",
       "      <td>2015-09-26</td>\n",
       "      <td>2015-09-27</td>\n",
       "      <td>NaN</td>\n",
       "      <td>175</td>\n",
       "      <td>NaN</td>\n",
       "      <td>NaN</td>\n",
       "      <td>yes</td>\n",
       "      <td>NaN</td>\n",
       "      <td>NaN</td>\n",
       "      <td>NaN</td>\n",
       "      <td>NaN</td>\n",
       "      <td>5</td>\n",
       "      <td>NaN</td>\n",
       "      <td>2</td>\n",
       "      <td>New York, NY, United States</td>\n",
       "      <td>NaN</td>\n",
       "      <td>NaN</td>\n",
       "      <td>1</td>\n",
       "      <td>0</td>\n",
       "      <td>1</td>\n",
       "    </tr>\n",
       "  </tbody>\n",
       "</table>\n",
       "</div>"
      ],
      "text/plain": [
       "      checkin    checkout MinPriceFilter MaxPriceFilter freeCancellation  \\\n",
       "0  2015-09-19  2015-09-20            NaN            NaN              NaN   \n",
       "1  2015-09-14  2015-09-15            NaN            NaN              NaN   \n",
       "2  2015-09-26  2015-09-27            NaN            175              NaN   \n",
       "\n",
       "  stars_5 stars_4 stars_3 stars_2 stars_1 max_score min_score couponCode  \\\n",
       "0     NaN     yes     NaN     NaN     NaN       NaN         4        NaN   \n",
       "1     NaN     NaN     yes     NaN     NaN       NaN         4        NaN   \n",
       "2     NaN     yes     NaN     NaN     NaN       NaN         5        NaN   \n",
       "\n",
       "  adults                         city children amenities search_page  \\\n",
       "0      3  New York, NY, United States      NaN       NaN           1   \n",
       "1      3       London, United Kingdom      NaN       NaN           1   \n",
       "2      2  New York, NY, United States      NaN       NaN           1   \n",
       "\n",
       "   amenities_count  search_quality  \n",
       "0                0               1  \n",
       "1                0               1  \n",
       "2                0               1  "
      ]
     },
     "execution_count": 50,
     "metadata": {},
     "output_type": "execute_result"
    }
   ],
   "source": [
    "Search_Data['search_quality'] = Search_Data['search_page'].apply(lambda x: 1 if x == '1' else 0)\n",
    "Search_Data.head(3)"
   ]
  },
  {
   "cell_type": "markdown",
   "metadata": {},
   "source": [
    "A new column 'search_quality' is added, in which 1 means good and 0 means normal."
   ]
  },
  {
   "cell_type": "code",
   "execution_count": 53,
   "metadata": {},
   "outputs": [
    {
     "data": {
      "text/plain": [
       "New York, NY, United States                 29384\n",
       "London, United Kingdom                      28058\n",
       "Hong Kong, Hong Kong                        11786\n",
       "San Francisco, California, United States     8449\n",
       "Name: city, dtype: int64"
      ]
     },
     "execution_count": 53,
     "metadata": {},
     "output_type": "execute_result"
    }
   ],
   "source": [
    "Search_Data['city'].value_counts()"
   ]
  },
  {
   "cell_type": "markdown",
   "metadata": {},
   "source": [
    "These search queries only contain four destination cities. / The city column in these search queries only contains four values."
   ]
  },
  {
   "cell_type": "code",
   "execution_count": 56,
   "metadata": {},
   "outputs": [
    {
     "data": {
      "text/plain": [
       "city\n",
       "London, United Kingdom                      0.526588\n",
       "New York, NY, United States                 0.557616\n",
       "Hong Kong, Hong Kong                        0.910826\n",
       "San Francisco, California, United States    0.959285\n",
       "Name: search_quality, dtype: float64"
      ]
     },
     "execution_count": 56,
     "metadata": {},
     "output_type": "execute_result"
    }
   ],
   "source": [
    "Search_Data.groupby('city')['search_quality'].mean().sort_values(ascending=True)"
   ]
  },
  {
   "cell_type": "markdown",
   "metadata": {},
   "source": [
    "The ratio here indicates the proportion of good search results in each city. The larger the number is, the better the search results of that city are. I call this ratio as 'search quality index'."
   ]
  },
  {
   "cell_type": "code",
   "execution_count": 57,
   "metadata": {},
   "outputs": [
    {
     "data": {
      "text/plain": [
       "<matplotlib.axes._subplots.AxesSubplot at 0x15fe0ad4470>"
      ]
     },
     "execution_count": 57,
     "metadata": {},
     "output_type": "execute_result"
    },
    {
     "data": {
      "image/png": "[encoded data removed]",
      "text/plain": [
       "<Figure size 432x288 with 1 Axes>"
      ]
     },
     "metadata": {},
     "output_type": "display_data"
    }
   ],
   "source": [
    "Search_Data.groupby('city')['search_quality'].mean().sort_values(ascending=True).plot(kind='bar')"
   ]
  },
  {
   "cell_type": "markdown",
   "metadata": {},
   "source": [
    "London has the lowest search quality index. This indicates it has the worst search algorithm."
   ]
  },
  {
   "cell_type": "code",
   "execution_count": null,
   "metadata": {},
   "outputs": [],
   "source": []
  }
 ],
 "metadata": {
  "kernelspec": {
   "display_name": "Python 3",
   "language": "python",
   "name": "python3"
  },
  "language_info": {
   "codemirror_mode": {
    "name": "ipython",
    "version": 3
   },
   "file_extension": ".py",
   "mimetype": "text/x-python",
   "name": "python",
   "nbconvert_exporter": "python",
   "pygments_lexer": "ipython3",
   "version": "3.6.5"
  }
 },
 "nbformat": 4,
 "nbformat_minor": 2
}
